{
 "cells": [
  {
   "cell_type": "code",
   "execution_count": 1,
   "metadata": {
    "pycharm": {
     "is_executing": false,
     "name": "#%%\n"
    }
   },
   "outputs": [],
   "source": [
    "import datetime\n",
    "import pandas as pd\n",
    "import numpy as np\n",
    "import os\n",
    "import seaborn as sns\n",
    "import matplotlib.pyplot as plt\n",
    "sns.set(style=\"darkgrid\")\n",
    "plt.rcParams['font.sans-serif']=['SimHei'] #用来正常显示中文标签\n",
    "plt.rcParams['axes.unicode_minus']=False #用来正常显示\n",
    "from zipfile import ZipFile\n"
   ]
  },
  {
   "cell_type": "code",
   "execution_count": 2,
   "metadata": {
    "pycharm": {
     "is_executing": false,
     "name": "#%%\n"
    }
   },
   "outputs": [],
   "source": [
    "import pickle\n",
    "usingSaved=False\n"
   ]
  },
  {
   "cell_type": "code",
   "execution_count": 4,
   "metadata": {
    "pycharm": {
     "is_executing": false,
     "name": "#%%\n"
    }
   },
   "outputs": [],
   "source": [
    "#读取item\n",
    "if not usingSaved:\n",
    "    output = open('H:\\\\pythonchengx_u\\\\Tianchiantai\\\\dianshangtuijian\\\\item_attr.pkl', 'wb')\n",
    "    item_attr=pd.read_csv('H:\\\\pythonchengx_u\\\\Tianchiantai\\\\dianshangtuijian\\\\Antai_AE_round1_item_attr_20190626.csv')\n",
    "\n",
    "    pickle.dump(item_attr, output)\n",
    "    output.close()\n",
    "else:\n",
    "    item_attr = pickle.load(open('H:\\\\pythonchengx_u\\\\Tianchiantai\\\\dianshangtuijian\\\\item_attr.pkl', 'rb'), encoding='iso-8859-1')\n",
    "#读取train  \n",
    "if not usingSaved:\n",
    "    output = open('H:\\\\pythonchengx_u\\\\Tianchiantai\\\\dianshangtuijian\\\\train.pkl', 'wb')\n",
    "\n",
    "    train=pd.read_csv('H:\\\\pythonchengx_u\\\\Tianchiantai\\\\dianshangtuijian\\\\Antai_AE_round1_train_20190626.csv')\n",
    "#     f.close()\n",
    "#     myzip.close()\n",
    "    train['create_order_time'] = train.create_order_time.apply(lambda x:pd.to_datetime(x))\n",
    "    train['hour']=train['create_order_time'].dt.hour\n",
    "    train['date']=train['create_order_time'].dt.day\n",
    "    train['month']=train['create_order_time'].dt.month\n",
    "    train['year']=train['create_order_time'].dt.year\n",
    "    train['month-date'] = train.month.astype(str)+'-'+train.date.astype(str)\n",
    "    train['count'] = 1\n",
    "    train['dayofweek']=train['create_order_time'].dt.dayofweek\n",
    "    train['isweekend']=train['dayofweek'].apply(lambda x:0 if x<5 else 1)\n",
    "    pickle.dump(train, output)\n",
    "    output.close()\n",
    "else:\n",
    "    train = pickle.load(open('H:\\\\pythonchengx_u\\\\Tianchiantai\\\\dianshangtuijian\\\\train.pkl', 'rb'),encoding='iso-8859-1')\n",
    "#读取test\n",
    "if not usingSaved:\n",
    "    output = open('H:\\\\pythonchengx_u\\\\Tianchiantai\\\\dianshangtuijian\\\\test.pkl', 'wb')\n",
    "    test=pd.read_csv('H:\\\\pythonchengx_u\\\\Tianchiantai\\\\dianshangtuijian\\\\Antai_AE_round1_test_20190626.csv')\n",
    "    test['create_order_time'] = test.create_order_time.apply(lambda x:pd.to_datetime(x))\n",
    "    test['hour']=test['create_order_time'].dt.hour\n",
    "    test['date']=test['create_order_time'].dt.day\n",
    "    test['month']=test['create_order_time'].dt.month\n",
    "    test['year']=test['create_order_time'].dt.year\n",
    "    test['month-date'] = test.month.astype(str)+'-'+test.date.astype(str)\n",
    "    test['count'] = 1\n",
    "    train['dayofweek']=train['create_order_time'].dt.dayofweek\n",
    "    train['isweekend']=train['dayofweek'].apply(lambda x:0 if x<5 else 1)\n",
    "    pickle.dump(test, output)\n",
    "    output.close()\n",
    "else:\n",
    "    test = pickle.load(open('H:\\\\pythonchengx_u\\\\Tianchiantai\\\\dianshangtuijian\\\\test.pkl', 'rb'), encoding='iso-8859-1')"
   ]
  },
  {
   "cell_type": "markdown",
   "metadata": {},
   "source": [
    "path ='H:/pythonchengx_u/Tianchiantai/'\n",
    "item = pd.read_csv('H:\\\\pythonchengx_u\\\\Tianchiantai\\\\dianshangtuijian\\\\Antai_AE_round1_item_attr_20190626.csv')\n",
    "train = pd.read_csv('H:\\\\pythonchengx_u\\\\Tianchiantai\\\\dianshangtuijian\\\\Antai_AE_round1_train_20190626.csv')\n",
    "test = pd.read_csv('H:\\\\pythonchengx_u\\\\Tianchiantai\\\\dianshangtuijian\\\\Antai_AE_round1_test_20190626.csv')"
   ]
  },
  {
   "cell_type": "markdown",
   "metadata": {},
   "source": [
    "df = pd.concat([train.assign(is_train=1), test.assign(is_train=0)])\n",
    "\n",
    "df['create_order_time'] = pd.to_datetime(df['create_order_time'])\n",
    "df['date'] = df['create_order_time'].dt.date\n",
    "df['day'] = df['create_order_time'].dt.day\n",
    "df['hour'] = df['create_order_time'].dt.hour\n",
    "\n",
    "df = pd.merge(df, item, how='left', on='item_id')\n",
    "\n"
   ]
  },
  {
   "cell_type": "code",
   "execution_count": 8,
   "metadata": {
    "pycharm": {
     "is_executing": false,
     "name": "#%%\n"
    }
   },
   "outputs": [],
   "source": [
    "import numpy as np\n",
    "import pandas as pd\n",
    "import tensorflow as tf\n",
    "from tfcf.metrics import mae  # 需要安装这个包；最上面有link\n",
    "from tfcf.metrics import rmse\n",
    "from tfcf.datasets import ml1m\n",
    "from tfcf.config import Config\n",
    "from tfcf.models.svd import SVD\n",
    "# from svd import SVD\n",
    "from tfcf.models.svdpp import SVDPP\n",
    "from sklearn.model_selection import train_test_split\n",
    "from zipfile import ZipFile\n",
    "\n",
    "import numpy as np\n",
    "import tensorflow as tf\n",
    "\n",
    "try:\n",
    "    from tensorflow.keras import utils\n",
    "except:\n",
    "    from tensorflow.contrib.keras import utils\n",
    "from tfcf.models.model_base import BaseModel\n",
    "from tfcf.utils.data_utils import BatchGenerator\n",
    "from tfcf.metrics import mae\n",
    "from tfcf.metrics import rmse\n",
    "\n",
    "class SVD(BaseModel):\n",
    "    \"\"\"Collaborative filtering model based on SVD algorithm.\n",
    "    \"\"\"\n",
    "\n",
    "    def __init__(self, config, sess):\n",
    "        super(SVD, self).__init__(config)\n",
    "        self._sess = sess\n",
    "\n",
    "    def _create_placeholders(self):\n",
    "        \"\"\"Returns the placeholders.\n",
    "        \"\"\"\n",
    "        with tf.variable_scope('placeholder'):\n",
    "            users = tf.placeholder(tf.int32, shape=[None, ], name='users')\n",
    "            items = tf.placeholder(tf.int32, shape=[None, ], name='items')\n",
    "            ratings = tf.placeholder(\n",
    "                tf.float32, shape=[None, ], name='ratings')\n",
    "\n",
    "        return users, items, ratings\n",
    "\n",
    "    def _create_constants(self, mu):\n",
    "        \"\"\"Returns the constants.\n",
    "        \"\"\"\n",
    "        with tf.variable_scope('constant'):\n",
    "            _mu = tf.constant(mu, shape=[], dtype=tf.float32)\n",
    "\n",
    "        return _mu\n",
    "\n",
    "    def _create_user_terms(self, users):\n",
    "        \"\"\"Returns the tensors related to users.\n",
    "        \"\"\"\n",
    "        num_users = self.num_users\n",
    "        num_factors = self.num_factors\n",
    "\n",
    "        with tf.variable_scope('user',reuse=tf.AUTO_REUSE):\n",
    "            self.user_embeddings = tf.get_variable(\n",
    "                name='embedding',\n",
    "                shape=[num_users, num_factors],\n",
    "                initializer=tf.contrib.layers.xavier_initializer(),\n",
    "                regularizer=tf.contrib.layers.l2_regularizer(self.reg_p_u))\n",
    "\n",
    "            self.user_bias = tf.get_variable(\n",
    "                name='bias',\n",
    "                shape=[num_users, ],\n",
    "                initializer=tf.contrib.layers.xavier_initializer(),\n",
    "                regularizer=tf.contrib.layers.l2_regularizer(self.reg_b_u))\n",
    "\n",
    "            p_u = tf.nn.embedding_lookup(\n",
    "                self.user_embeddings,\n",
    "                users,\n",
    "                name='p_u')\n",
    "\n",
    "            b_u = tf.nn.embedding_lookup(\n",
    "                self.user_bias,\n",
    "                users,\n",
    "                name='b_u')\n",
    "\n",
    "        return p_u, b_u\n",
    "\n",
    "    def _create_item_terms(self, items):\n",
    "        \"\"\"Returns the tensors related to items.\n",
    "        \"\"\"\n",
    "        num_items = self.num_items\n",
    "        num_factors = self.num_factors\n",
    "\n",
    "        with tf.variable_scope('item',reuse=tf.AUTO_REUSE):\n",
    "            self.item_embeddings = tf.get_variable(\n",
    "                name='embedding',\n",
    "                shape=[num_items, num_factors],\n",
    "                initializer=tf.contrib.layers.xavier_initializer(),\n",
    "                regularizer=tf.contrib.layers.l2_regularizer(self.reg_q_i))\n",
    "\n",
    "            self.item_bias = tf.get_variable(\n",
    "                name='bias',\n",
    "                shape=[num_items, ],\n",
    "                initializer=tf.contrib.layers.xavier_initializer(),\n",
    "                regularizer=tf.contrib.layers.l2_regularizer(self.reg_b_i))\n",
    "\n",
    "            q_i = tf.nn.embedding_lookup(\n",
    "                self.item_embeddings,\n",
    "                items,\n",
    "                name='q_i')\n",
    "\n",
    "            b_i = tf.nn.embedding_lookup(\n",
    "                self.item_bias,\n",
    "                items,\n",
    "                name='b_i')\n",
    "\n",
    "        return q_i, b_i\n",
    "    def _get_item_terms(self):\n",
    "        \"\"\"Returns the tensors related to items.\n",
    "        \"\"\"\n",
    "        import pickle\n",
    "        saver = tf.train.Saver()\n",
    "        item_embeddings = self.item_embeddings.eval()\n",
    "        saver_path = saver.save(self._sess, './')\n",
    "        print(\"saver path: \",saver_path)\n",
    "        with open('./item_embeddings.pkl', 'wb') as fw:\n",
    "            pickle.dump({'embeddings': item_embeddings}, fw)\n",
    "\n",
    "    def _create_prediction(self, mu, b_u, b_i, p_u, q_i):\n",
    "        \"\"\"Returns the tensor of prediction.\n",
    "\n",
    "           Note that the prediction \n",
    "            r_hat = \\mu + b_u + b_i + p_u * q_i\n",
    "        \"\"\"\n",
    "        with tf.variable_scope('prediction'):\n",
    "            pred = tf.reduce_sum(\n",
    "                tf.multiply(p_u, q_i),\n",
    "                axis=1)\n",
    "\n",
    "            pred = tf.add_n([b_u, b_i, pred])\n",
    "\n",
    "            pred = tf.add(pred, mu, name='pred')\n",
    "\n",
    "        return pred\n",
    "\n",
    "    def _create_loss(self, pred, ratings):\n",
    "        \"\"\"Returns the L2 loss of the difference between\n",
    "            ground truths and predictions.\n",
    "\n",
    "           The formula is here:\n",
    "            L2 = sum((r - r_hat) ** 2) / 2\n",
    "        \"\"\"\n",
    "        with tf.variable_scope('loss'):\n",
    "            loss = tf.nn.l2_loss(tf.subtract(ratings, pred), name='loss')\n",
    "\n",
    "        return loss\n",
    "\n",
    "    def _create_optimizer(self, loss):\n",
    "        \"\"\"Returns the optimizer.\n",
    "\n",
    "           The objective function is defined as the sum of\n",
    "            loss and regularizers' losses.\n",
    "        \"\"\"\n",
    "        with tf.variable_scope('optimizer'):\n",
    "            objective = tf.add(\n",
    "                loss,\n",
    "                tf.add_n(tf.get_collection(\n",
    "                    tf.GraphKeys.REGULARIZATION_LOSSES)),\n",
    "                name='objective')\n",
    "\n",
    "            try:\n",
    "                optimizer = tf.contrib.keras.optimizers.Nadam(\n",
    "                ).minimize(objective, name='optimizer')\n",
    "            except:\n",
    "                optimizer = tf.train.AdamOptimizer().minimize(objective, name='optimizer')\n",
    "\n",
    "        return optimizer\n",
    "\n",
    "    def _build_graph(self, mu):\n",
    "        _mu = self._create_constants(mu)\n",
    "\n",
    "        self._users, self._items, self._ratings = self._create_placeholders()\n",
    "\n",
    "        p_u, b_u = self._create_user_terms(self._users)\n",
    "        q_i, b_i = self._create_item_terms(self._items)\n",
    "\n",
    "        self._pred = self._create_prediction(_mu, b_u, b_i, p_u, q_i)\n",
    "\n",
    "        loss = self._create_loss(self._ratings, self._pred)\n",
    "\n",
    "        self._optimizer = self._create_optimizer(loss)\n",
    "\n",
    "        self._built = True\n",
    "\n",
    "    def _run_train(self, x, y, epochs, batch_size, validation_data):\n",
    "        train_gen = BatchGenerator(x, y, batch_size)\n",
    "        steps_per_epoch = np.ceil(train_gen.length / batch_size).astype(int)\n",
    "\n",
    "        self._sess.run(tf.global_variables_initializer())\n",
    "\n",
    "        for e in range(1, epochs + 1):\n",
    "            print('Epoch {}/{}'.format(e, epochs))\n",
    "\n",
    "            pbar = utils.Progbar(steps_per_epoch)\n",
    "\n",
    "            for step, batch in enumerate(train_gen.next(), 1):\n",
    "                users = batch[0][:, 0]\n",
    "                items = batch[0][:, 1]\n",
    "                ratings = batch[1]\n",
    "\n",
    "                self._sess.run(\n",
    "                    self._optimizer,\n",
    "                    feed_dict={\n",
    "                        self._users: users,\n",
    "                        self._items: items,\n",
    "                        self._ratings: ratings\n",
    "                    })\n",
    "\n",
    "                pred = self.predict(batch[0])\n",
    "\n",
    "                update_values = [\n",
    "                    ('rmse', rmse(ratings, pred)),\n",
    "                    ('mae', mae(ratings, pred))\n",
    "                ]\n",
    "\n",
    "                if validation_data is not None and step == steps_per_epoch:\n",
    "                    valid_x, valid_y = validation_data\n",
    "                    valid_pred = self.predict(valid_x)\n",
    "\n",
    "                    update_values += [\n",
    "                        ('val_rmse', rmse(valid_y, valid_pred)),\n",
    "                        ('val_mae', mae(valid_y, valid_pred))\n",
    "                    ]\n",
    "\n",
    "                pbar.update(step, values=update_values)\n",
    "\n",
    "    def train(self, x, y, epochs=100, batch_size=1024, validation_data=None):\n",
    "\n",
    "        if x.shape[0] != y.shape[0] or x.shape[1] != 2:\n",
    "            raise ValueError('The shape of x should be (samples, 2) and '\n",
    "                             'the shape of y should be (samples, 1).')\n",
    "\n",
    "        if not self._built:\n",
    "            self._build_graph(np.mean(y))\n",
    "\n",
    "        self._run_train(x, y, epochs, batch_size, validation_data)\n",
    "        self._get_item_terms()\n",
    "\n",
    "    def predict(self, x):\n",
    "        if not self._built:\n",
    "            raise RunTimeError('The model must be trained '\n",
    "                               'before prediction.')\n",
    "\n",
    "        if x.shape[1] != 2:\n",
    "            raise ValueError('The shape of x should be '\n",
    "                             '(samples, 2)')\n",
    "\n",
    "        pred = self._sess.run(\n",
    "            self._pred,\n",
    "            feed_dict={\n",
    "                self._users: x[:, 0],\n",
    "                self._items: x[:, 1]\n",
    "            })\n",
    "\n",
    "        pred = pred.clip(min=self.min_value, max=self.max_value)\n",
    "\n",
    "        return pred"
   ]
  },
  {
   "cell_type": "code",
   "execution_count": 9,
   "metadata": {
    "pycharm": {
     "is_executing": false,
     "name": "#%%\n"
    }
   },
   "outputs": [],
   "source": [
    "train_counts = train.groupby(['buyer_admin_id','item_id'])['count'].sum().reset_index()\n",
    "\n"
   ]
  },
  {
   "cell_type": "code",
   "execution_count": 10,
   "metadata": {
    "pycharm": {
     "is_executing": false,
     "name": "#%%\n"
    }
   },
   "outputs": [],
   "source": [
    "train_counts['count_ratio']=train_counts['count']/1271.0"
   ]
  },
  {
   "cell_type": "code",
   "execution_count": 90,
   "metadata": {},
   "outputs": [
    {
     "data": {
      "text/plain": [
       "0       476\n",
       "1     40488\n",
       "2     80921\n",
       "3    192548\n",
       "4    212912\n",
       "Name: item, dtype: int64"
      ]
     },
     "execution_count": 90,
     "metadata": {},
     "output_type": "execute_result"
    }
   ],
   "source": [
    "train_counts.item.head()"
   ]
  },
  {
   "cell_type": "code",
   "execution_count": 11,
   "metadata": {
    "pycharm": {
     "is_executing": false,
     "name": "#%%\n"
    }
   },
   "outputs": [
    {
     "data": {
      "text/html": [
       "<div>\n",
       "<style scoped>\n",
       "    .dataframe tbody tr th:only-of-type {\n",
       "        vertical-align: middle;\n",
       "    }\n",
       "\n",
       "    .dataframe tbody tr th {\n",
       "        vertical-align: top;\n",
       "    }\n",
       "\n",
       "    .dataframe thead th {\n",
       "        text-align: right;\n",
       "    }\n",
       "</style>\n",
       "<table border=\"1\" class=\"dataframe\">\n",
       "  <thead>\n",
       "    <tr style=\"text-align: right;\">\n",
       "      <th></th>\n",
       "      <th>buyer_admin_id</th>\n",
       "      <th>item_id</th>\n",
       "      <th>count</th>\n",
       "      <th>count_ratio</th>\n",
       "    </tr>\n",
       "  </thead>\n",
       "  <tbody>\n",
       "    <tr>\n",
       "      <th>0</th>\n",
       "      <td>1</td>\n",
       "      <td>1363</td>\n",
       "      <td>1</td>\n",
       "      <td>0.000787</td>\n",
       "    </tr>\n",
       "    <tr>\n",
       "      <th>1</th>\n",
       "      <td>1</td>\n",
       "      <td>149829</td>\n",
       "      <td>1</td>\n",
       "      <td>0.000787</td>\n",
       "    </tr>\n",
       "    <tr>\n",
       "      <th>2</th>\n",
       "      <td>1</td>\n",
       "      <td>311727</td>\n",
       "      <td>1</td>\n",
       "      <td>0.000787</td>\n",
       "    </tr>\n",
       "    <tr>\n",
       "      <th>3</th>\n",
       "      <td>1</td>\n",
       "      <td>837168</td>\n",
       "      <td>1</td>\n",
       "      <td>0.000787</td>\n",
       "    </tr>\n",
       "    <tr>\n",
       "      <th>4</th>\n",
       "      <td>1</td>\n",
       "      <td>928511</td>\n",
       "      <td>1</td>\n",
       "      <td>0.000787</td>\n",
       "    </tr>\n",
       "  </tbody>\n",
       "</table>\n",
       "</div>"
      ],
      "text/plain": [
       "   buyer_admin_id  item_id  count  count_ratio\n",
       "0               1     1363      1     0.000787\n",
       "1               1   149829      1     0.000787\n",
       "2               1   311727      1     0.000787\n",
       "3               1   837168      1     0.000787\n",
       "4               1   928511      1     0.000787"
      ]
     },
     "execution_count": 11,
     "metadata": {},
     "output_type": "execute_result"
    }
   ],
   "source": [
    "train_counts.head()"
   ]
  },
  {
   "cell_type": "code",
   "execution_count": 12,
   "metadata": {
    "pycharm": {
     "is_executing": false,
     "name": "#%%\n"
    }
   },
   "outputs": [
    {
     "data": {
      "text/plain": [
       "(1, 13046721)"
      ]
     },
     "execution_count": 12,
     "metadata": {},
     "output_type": "execute_result"
    }
   ],
   "source": [
    "train_counts.buyer_admin_id.min(),train_counts.buyer_admin_id.max() # 次数对不上embedding，使用labelencoder规范化\n",
    "\n"
   ]
  },
  {
   "cell_type": "code",
   "execution_count": 13,
   "metadata": {
    "pycharm": {
     "is_executing": false,
     "name": "#%%\n"
    }
   },
   "outputs": [
    {
     "data": {
      "text/plain": [
       "LabelEncoder()"
      ]
     },
     "execution_count": 13,
     "metadata": {},
     "output_type": "execute_result"
    }
   ],
   "source": [
    "from sklearn import preprocessing\n",
    "le_buyer = preprocessing.LabelEncoder()\n",
    "le_buyer.fit(train_counts.buyer_admin_id.unique()) \n",
    "le_item = preprocessing.LabelEncoder()\n",
    "le_item.fit(train_counts.item_id.unique()) "
   ]
  },
  {
   "cell_type": "code",
   "execution_count": 14,
   "metadata": {
    "pycharm": {
     "is_executing": false,
     "name": "#%%\n"
    }
   },
   "outputs": [],
   "source": [
    "train_counts['buyer'] = le_buyer.transform(train_counts.buyer_admin_id.values)\n",
    "train_counts['item'] = le_item.transform(train_counts.item_id.values)"
   ]
  },
  {
   "cell_type": "code",
   "execution_count": 15,
   "metadata": {
    "pycharm": {
     "is_executing": false,
     "name": "#%%\n"
    }
   },
   "outputs": [],
   "source": [
    "train_counts['buyer'] = train_counts['buyer']+1\n",
    "train_counts['item'] = train_counts['item']+1"
   ]
  },
  {
   "cell_type": "code",
   "execution_count": 16,
   "metadata": {
    "pycharm": {
     "is_executing": false,
     "name": "#%%\n"
    }
   },
   "outputs": [
    {
     "data": {
      "text/html": [
       "<div>\n",
       "<style scoped>\n",
       "    .dataframe tbody tr th:only-of-type {\n",
       "        vertical-align: middle;\n",
       "    }\n",
       "\n",
       "    .dataframe tbody tr th {\n",
       "        vertical-align: top;\n",
       "    }\n",
       "\n",
       "    .dataframe thead th {\n",
       "        text-align: right;\n",
       "    }\n",
       "</style>\n",
       "<table border=\"1\" class=\"dataframe\">\n",
       "  <thead>\n",
       "    <tr style=\"text-align: right;\">\n",
       "      <th></th>\n",
       "      <th>buyer_admin_id</th>\n",
       "      <th>item_id</th>\n",
       "      <th>count</th>\n",
       "      <th>count_ratio</th>\n",
       "      <th>buyer</th>\n",
       "      <th>item</th>\n",
       "    </tr>\n",
       "  </thead>\n",
       "  <tbody>\n",
       "    <tr>\n",
       "      <th>0</th>\n",
       "      <td>1</td>\n",
       "      <td>1363</td>\n",
       "      <td>1</td>\n",
       "      <td>0.000787</td>\n",
       "      <td>1</td>\n",
       "      <td>476</td>\n",
       "    </tr>\n",
       "    <tr>\n",
       "      <th>1</th>\n",
       "      <td>1</td>\n",
       "      <td>149829</td>\n",
       "      <td>1</td>\n",
       "      <td>0.000787</td>\n",
       "      <td>1</td>\n",
       "      <td>40488</td>\n",
       "    </tr>\n",
       "    <tr>\n",
       "      <th>2</th>\n",
       "      <td>1</td>\n",
       "      <td>311727</td>\n",
       "      <td>1</td>\n",
       "      <td>0.000787</td>\n",
       "      <td>1</td>\n",
       "      <td>80921</td>\n",
       "    </tr>\n",
       "    <tr>\n",
       "      <th>3</th>\n",
       "      <td>1</td>\n",
       "      <td>837168</td>\n",
       "      <td>1</td>\n",
       "      <td>0.000787</td>\n",
       "      <td>1</td>\n",
       "      <td>192548</td>\n",
       "    </tr>\n",
       "    <tr>\n",
       "      <th>4</th>\n",
       "      <td>1</td>\n",
       "      <td>928511</td>\n",
       "      <td>1</td>\n",
       "      <td>0.000787</td>\n",
       "      <td>1</td>\n",
       "      <td>212912</td>\n",
       "    </tr>\n",
       "  </tbody>\n",
       "</table>\n",
       "</div>"
      ],
      "text/plain": [
       "   buyer_admin_id  item_id  count  count_ratio  buyer    item\n",
       "0               1     1363      1     0.000787      1     476\n",
       "1               1   149829      1     0.000787      1   40488\n",
       "2               1   311727      1     0.000787      1   80921\n",
       "3               1   837168      1     0.000787      1  192548\n",
       "4               1   928511      1     0.000787      1  212912"
      ]
     },
     "execution_count": 16,
     "metadata": {},
     "output_type": "execute_result"
    }
   ],
   "source": [
    "train_counts.head()\n",
    "\n"
   ]
  },
  {
   "cell_type": "code",
   "execution_count": 17,
   "metadata": {
    "pycharm": {
     "is_executing": false,
     "name": "#%%\n"
    }
   },
   "outputs": [],
   "source": [
    "\n",
    "x,y=train_counts[['buyer','item']].values,train_counts.count_ratio.values"
   ]
  },
  {
   "cell_type": "code",
   "execution_count": 18,
   "metadata": {
    "pycharm": {
     "is_executing": false,
     "name": "#%%\n"
    }
   },
   "outputs": [
    {
     "name": "stdout",
     "output_type": "stream",
     "text": [
      "Epoch 1/2\n",
      "1013/1013 [==============================] - 1428s 1s/step - rmse: 0.0049 - mae: 0.0024 - val_rmse: 0.0069 - val_mae: 0.0036\n",
      "Epoch 2/2\n",
      "1013/1013 [==============================] - 1428s 1s/step - rmse: 0.0060 - mae: 0.0032 - val_rmse: 0.0069 - val_mae: 0.0036\n",
      "saver path:  ./\n",
      "rmse: 0.006903757755839459, mae: 0.0036497351114366185\n"
     ]
    }
   ],
   "source": [
    "# Note that x is a 2D numpy array, \n",
    "# x[i, :] contains the user-item pair, and y[i] is the corresponding rating.\n",
    "x_train, x_test, y_train, y_test = train_test_split(\n",
    "    x, y, test_size=0.2, random_state=0)\n",
    "\n",
    "config = Config()\n",
    "config.num_users = np.max(x[:, 0]) + 1\n",
    "config.num_items = np.max(x[:, 1]) + 1\n",
    "config.min_value = np.min(y)\n",
    "config.max_value = np.max(y)\n",
    "\n",
    "with tf.Session() as sess:\n",
    "    # For SVD++ algorithm, if `dual` is True, then the dual term of items' \n",
    "    # implicit feedback will be added into the original SVD++ algorithm.\n",
    "    # model = SVDPP(config, sess, dual=False)\n",
    "    # model = SVDPP(config, sess, dual=True)\n",
    "    model = SVD(config, sess)# 给模型加了保存embedding的一个功能\n",
    "    model.train(x_train, y_train, validation_data=(\n",
    "        x_test, y_test), epochs=2, batch_size=8092)\n",
    "        \n",
    "    y_pred = model.predict(x_test)\n",
    "    print('rmse: {}, mae: {}'.format(rmse(y_test, y_pred), mae(y_test, y_pred)))\n",
    "        \n",
    "    # Save model\n",
    "    model.save_model('model/')"
   ]
  },
  {
   "cell_type": "code",
   "execution_count": 19,
   "metadata": {
    "pycharm": {
     "is_executing": false,
     "name": "#%%\n"
    }
   },
   "outputs": [],
   "source": [
    "\n",
    "import pickle\n",
    "with open('./item_embeddings.pkl', 'rb') as fr:\n",
    "    data = pickle.load(fr)\n",
    "    final_embeddings = data['embeddings']"
   ]
  },
  {
   "cell_type": "code",
   "execution_count": 20,
   "metadata": {
    "pycharm": {
     "is_executing": false,
     "name": "#%%\n"
    }
   },
   "outputs": [],
   "source": [
    "test_counts = test[test.item_id.isin(train.item_id.unique())].groupby(['buyer_admin_id','item_id']).agg({'count':'sum','irank':'max'}).reset_index()\n",
    "test_counts['item'] = le_item.transform(test_counts.item_id.values)\n",
    "\n"
   ]
  },
  {
   "cell_type": "code",
   "execution_count": 92,
   "metadata": {},
   "outputs": [
    {
     "data": {
      "text/plain": [
       "array([       1,        2,        3, ..., 13046731, 13046732, 13046734],\n",
       "      dtype=int64)"
      ]
     },
     "execution_count": 92,
     "metadata": {},
     "output_type": "execute_result"
    }
   ],
   "source": [
    "le_item.classes_"
   ]
  },
  {
   "cell_type": "code",
   "execution_count": 100,
   "metadata": {},
   "outputs": [
    {
     "data": {
      "text/plain": [
       "False"
      ]
     },
     "execution_count": 100,
     "metadata": {},
     "output_type": "execute_result"
    }
   ],
   "source": [
    "2812048 in le_item.classes_"
   ]
  },
  {
   "cell_type": "code",
   "execution_count": 21,
   "metadata": {
    "pycharm": {
     "is_executing": false,
     "name": "#%%\n"
    }
   },
   "outputs": [
    {
     "data": {
      "text/html": [
       "<div>\n",
       "<style scoped>\n",
       "    .dataframe tbody tr th:only-of-type {\n",
       "        vertical-align: middle;\n",
       "    }\n",
       "\n",
       "    .dataframe tbody tr th {\n",
       "        vertical-align: top;\n",
       "    }\n",
       "\n",
       "    .dataframe thead th {\n",
       "        text-align: right;\n",
       "    }\n",
       "</style>\n",
       "<table border=\"1\" class=\"dataframe\">\n",
       "  <thead>\n",
       "    <tr style=\"text-align: right;\">\n",
       "      <th></th>\n",
       "      <th>buyer_admin_id</th>\n",
       "      <th>item_id</th>\n",
       "      <th>count</th>\n",
       "      <th>irank</th>\n",
       "      <th>item</th>\n",
       "    </tr>\n",
       "  </thead>\n",
       "  <tbody>\n",
       "    <tr>\n",
       "      <th>0</th>\n",
       "      <td>152</td>\n",
       "      <td>7937154</td>\n",
       "      <td>1</td>\n",
       "      <td>3</td>\n",
       "      <td>1732802</td>\n",
       "    </tr>\n",
       "    <tr>\n",
       "      <th>1</th>\n",
       "      <td>152</td>\n",
       "      <td>8410857</td>\n",
       "      <td>1</td>\n",
       "      <td>2</td>\n",
       "      <td>1833065</td>\n",
       "    </tr>\n",
       "    <tr>\n",
       "      <th>2</th>\n",
       "      <td>152</td>\n",
       "      <td>8472223</td>\n",
       "      <td>1</td>\n",
       "      <td>4</td>\n",
       "      <td>1846548</td>\n",
       "    </tr>\n",
       "    <tr>\n",
       "      <th>3</th>\n",
       "      <td>152</td>\n",
       "      <td>9891513</td>\n",
       "      <td>1</td>\n",
       "      <td>6</td>\n",
       "      <td>2163974</td>\n",
       "    </tr>\n",
       "    <tr>\n",
       "      <th>4</th>\n",
       "      <td>282</td>\n",
       "      <td>688799</td>\n",
       "      <td>1</td>\n",
       "      <td>10</td>\n",
       "      <td>159923</td>\n",
       "    </tr>\n",
       "  </tbody>\n",
       "</table>\n",
       "</div>"
      ],
      "text/plain": [
       "   buyer_admin_id  item_id  count  irank     item\n",
       "0             152  7937154      1      3  1732802\n",
       "1             152  8410857      1      2  1833065\n",
       "2             152  8472223      1      4  1846548\n",
       "3             152  9891513      1      6  2163974\n",
       "4             282   688799      1     10   159923"
      ]
     },
     "execution_count": 21,
     "metadata": {},
     "output_type": "execute_result"
    }
   ],
   "source": [
    "test_counts.head()\n",
    "\n"
   ]
  },
  {
   "cell_type": "code",
   "execution_count": 22,
   "metadata": {
    "pycharm": {
     "is_executing": false,
     "name": "#%%\n"
    }
   },
   "outputs": [],
   "source": [
    "from sklearn.neighbors import NearestNeighbors\n",
    "nbrs = NearestNeighbors(n_neighbors=31, algorithm='ball_tree').fit(final_embeddings)\n",
    "\n"
   ]
  },
  {
   "cell_type": "code",
   "execution_count": 23,
   "metadata": {
    "pycharm": {
     "is_executing": false,
     "name": "#%%\n"
    }
   },
   "outputs": [],
   "source": [
    "test_final_embeddings=[]\n",
    "for line in test_counts.iterrows():\n",
    "    test_final_embeddings.append(final_embeddings[line[1]['item']])\n",
    "\n"
   ]
  },
  {
   "cell_type": "code",
   "execution_count": 93,
   "metadata": {
    "pycharm": {
     "is_executing": false,
     "name": "#%%\n"
    }
   },
   "outputs": [
    {
     "name": "stderr",
     "output_type": "stream",
     "text": [
      "IOPub data rate exceeded.\n",
      "The notebook server will temporarily stop sending output\n",
      "to the client in order to avoid crashing it.\n",
      "To change this limit, set the config variable\n",
      "`--NotebookApp.iopub_data_rate_limit`.\n",
      "\n",
      "Current values:\n",
      "NotebookApp.iopub_data_rate_limit=1000000.0 (bytes/sec)\n",
      "NotebookApp.rate_limit_window=3.0 (secs)\n",
      "\n"
     ]
    }
   ],
   "source": [
    "len(test_final_embeddings)\n",
    "\n"
   ]
  },
  {
   "cell_type": "code",
   "execution_count": 95,
   "metadata": {},
   "outputs": [
    {
     "data": {
      "text/plain": [
       "[array([ 3.6345510e-12, -6.8071779e-05, -4.6813291e-13,  9.3123381e-06,\n",
       "        -9.1887989e-15, -7.1985148e-17,  1.2939977e-16, -6.3635309e-16,\n",
       "         1.8443060e-16, -1.1711151e-13, -1.7093253e-12,  1.1151691e-05,\n",
       "        -7.3523630e-08,  3.3653441e-11,  7.4997642e-16], dtype=float32),\n",
       " array([-1.2819355e-10,  3.6641419e-11, -2.5750697e-11, -5.8679386e-14,\n",
       "         4.4789304e-05,  5.0304825e-06, -9.5915099e-17,  3.4231175e-12,\n",
       "        -1.4824520e-06,  6.3768999e-12, -2.0752393e-12,  2.9699114e-16,\n",
       "        -2.6310869e-14,  3.8532511e-15, -6.1889313e-12], dtype=float32),\n",
       " array([-2.4423443e-23,  5.1311159e-05,  1.2703571e-24,  2.7333766e-07,\n",
       "         7.6229524e-05,  9.7661097e-09,  5.3876661e-06, -1.6043981e-04,\n",
       "         1.8425251e-22, -2.4090177e-05,  9.1434759e-07, -7.8082583e-22,\n",
       "         7.4634554e-10,  4.4656840e-06,  6.6874756e-23], dtype=float32),\n",
       " array([ 9.8731753e-15,  1.2809082e-31,  6.0628655e-12,  3.0636801e-31,\n",
       "        -8.4799137e-09, -6.9859812e-12,  1.5666240e-06, -2.4560367e-12,\n",
       "         5.4280497e-32, -1.9104943e-31,  8.0824007e-05,  1.9170239e-31,\n",
       "        -3.7043354e-12,  4.4766578e-12, -3.1686183e-13], dtype=float32),\n",
       " array([ 5.8706188e-08,  1.2033343e-06, -1.8453153e-05, -1.1966127e-05,\n",
       "        -9.1724690e-09, -1.2756536e-07,  6.1594728e-06,  1.8417219e-07,\n",
       "        -3.6024890e-08,  2.4949216e-09,  1.0191722e-07,  1.6630802e-06,\n",
       "        -2.2831573e-06,  1.1810147e-05,  4.6553272e-05], dtype=float32),\n",
       " array([-2.8498452e-13,  5.6419951e-05,  2.7550272e-18, -1.7580129e-21,\n",
       "         2.0180453e-13, -9.1615764e-09,  1.8980060e-08,  7.9418169e-07,\n",
       "        -2.5055534e-11, -3.1665892e-13,  7.4106206e-21,  6.7390988e-07,\n",
       "         8.9279980e-05,  1.9845583e-09,  4.3152268e-20], dtype=float32),\n",
       " array([ 3.16016419e-13,  8.71452737e-35, -2.93873947e-21, -1.89965765e-34,\n",
       "        -1.76087462e-20, -2.38173916e-31, -2.02924465e-20,  1.11022825e-20,\n",
       "         4.06568231e-34, -2.65694637e-32,  1.60163495e-14, -5.04291116e-08,\n",
       "        -1.41372591e-33, -3.45610519e-17, -3.75864101e-06], dtype=float32),\n",
       " array([ 4.8242715e-11, -2.7643077e-15,  1.1250384e-18,  7.1085172e-21,\n",
       "        -2.9649547e-13,  3.5308531e-24,  5.2745436e-15, -1.5621359e-17,\n",
       "        -8.2282749e-18,  2.3633901e-21, -9.5422597e-23,  7.7980996e-23,\n",
       "         2.4723903e-21,  5.2532267e-24,  3.7509699e-23], dtype=float32),\n",
       " array([-5.1486032e-10, -3.3256309e-14, -7.2423153e-18,  8.9425289e-10,\n",
       "         2.9272370e-15,  1.4456257e-04,  2.8666412e-19, -1.4237876e-21,\n",
       "         2.1855019e-15,  5.8377199e-14,  1.3079190e-04, -9.7037897e-05,\n",
       "         3.6108321e-16,  2.8506408e-18, -9.7380052e-08], dtype=float32),\n",
       " array([ 6.5630329e-22,  7.8066010e-20,  2.1503109e-17, -3.0553608e-08,\n",
       "         1.6147256e-22,  8.8270753e-21,  6.4217572e-12,  1.3433575e-20,\n",
       "        -3.3812089e-18,  3.3251213e-16, -2.0508487e-17,  8.4802754e-22,\n",
       "        -9.9962963e-13, -1.5318862e-07,  3.2905998e-20], dtype=float32)]"
      ]
     },
     "execution_count": 95,
     "metadata": {},
     "output_type": "execute_result"
    }
   ],
   "source": [
    "type(test_final_embeddings)\n",
    "test_final_embeddings[:10]"
   ]
  },
  {
   "cell_type": "code",
   "execution_count": 25,
   "metadata": {
    "pycharm": {
     "is_executing": false,
     "name": "#%%\n"
    }
   },
   "outputs": [],
   "source": [
    "distances, indices = nbrs.kneighbors(test_final_embeddings) # 已经按照距离排好序了\n",
    "\n"
   ]
  },
  {
   "cell_type": "code",
   "execution_count": 42,
   "metadata": {},
   "outputs": [
    {
     "data": {
      "text/plain": [
       "array([[0.00000000e+00, 6.15640373e-06, 8.74560345e-06, 9.39715264e-06,\n",
       "        9.85903115e-06],\n",
       "       [0.00000000e+00, 1.91458147e-06, 2.44983091e-06, 2.71428192e-06,\n",
       "        2.86048294e-06]])"
      ]
     },
     "execution_count": 42,
     "metadata": {},
     "output_type": "execute_result"
    }
   ],
   "source": [
    "distances[0:2,:5]"
   ]
  },
  {
   "cell_type": "markdown",
   "metadata": {},
   "source": [
    "adistance=distances[:,1:]"
   ]
  },
  {
   "cell_type": "markdown",
   "metadata": {},
   "source": [
    "adistance[0:2,:5]"
   ]
  },
  {
   "cell_type": "markdown",
   "metadata": {},
   "source": [
    "np.shape(adistance)"
   ]
  },
  {
   "cell_type": "code",
   "execution_count": 46,
   "metadata": {},
   "outputs": [
    {
     "data": {
      "text/plain": [
       "array([[1732802, 1736892, 2581220, 2595460, 1074171, 2671349,  469027,\n",
       "        1318462,  177631, 1625972],\n",
       "       [1833065,   41030, 2171572, 2442847, 2622516, 1870332, 1205049,\n",
       "        1308066, 1637060, 2329768]], dtype=int64)"
      ]
     },
     "execution_count": 46,
     "metadata": {},
     "output_type": "execute_result"
    }
   ],
   "source": [
    "indices[:2,:10]"
   ]
  },
  {
   "cell_type": "code",
   "execution_count": 96,
   "metadata": {},
   "outputs": [
    {
     "data": {
      "text/plain": [
       "102848"
      ]
     },
     "execution_count": 96,
     "metadata": {},
     "output_type": "execute_result"
    }
   ],
   "source": [
    "len(indices)"
   ]
  },
  {
   "cell_type": "code",
   "execution_count": 129,
   "metadata": {},
   "outputs": [
    {
     "data": {
      "text/plain": [
       "(102848, 31)"
      ]
     },
     "execution_count": 129,
     "metadata": {},
     "output_type": "execute_result"
    }
   ],
   "source": [
    "np.shape(indices)"
   ]
  },
  {
   "cell_type": "code",
   "execution_count": 77,
   "metadata": {},
   "outputs": [
    {
     "data": {
      "text/plain": [
       "array([[1732802],\n",
       "       [1736892],\n",
       "       [2581220],\n",
       "       [2595460],\n",
       "       [1074171],\n",
       "       [2671349],\n",
       "       [ 469027],\n",
       "       [1318462],\n",
       "       [ 177631],\n",
       "       [1625972]], dtype=int64)"
      ]
     },
     "execution_count": 77,
     "metadata": {},
     "output_type": "execute_result"
    }
   ],
   "source": [
    "rindices=indices.reshape(-1,1)\n",
    "rindices[0:10]"
   ]
  },
  {
   "cell_type": "code",
   "execution_count": 101,
   "metadata": {},
   "outputs": [
    {
     "data": {
      "text/plain": [
       "True"
      ]
     },
     "execution_count": 101,
     "metadata": {},
     "output_type": "execute_result"
    }
   ],
   "source": []
  },
  {
   "cell_type": "code",
   "execution_count": 102,
   "metadata": {},
   "outputs": [
    {
     "ename": "AttributeError",
     "evalue": "'numpy.ndarray' object has no attribute 'count'",
     "output_type": "error",
     "traceback": [
      "\u001b[1;31m---------------------------------------------------------------------------\u001b[0m",
      "\u001b[1;31mAttributeError\u001b[0m                            Traceback (most recent call last)",
      "\u001b[1;32m<ipython-input-102-fb70c8e88f79>\u001b[0m in \u001b[0;36m<module>\u001b[1;34m\u001b[0m\n\u001b[1;32m----> 1\u001b[1;33m \u001b[0mrindices\u001b[0m\u001b[1;33m.\u001b[0m\u001b[0mcount\u001b[0m\u001b[1;33m(\u001b[0m\u001b[1;36m2812048\u001b[0m\u001b[1;33m)\u001b[0m\u001b[1;33m\u001b[0m\u001b[1;33m\u001b[0m\u001b[0m\n\u001b[0m",
      "\u001b[1;31mAttributeError\u001b[0m: 'numpy.ndarray' object has no attribute 'count'"
     ]
    }
   ],
   "source": []
  },
  {
   "cell_type": "code",
   "execution_count": 67,
   "metadata": {},
   "outputs": [
    {
     "data": {
      "text/plain": [
       "(3188288, 1)"
      ]
     },
     "execution_count": 67,
     "metadata": {},
     "output_type": "execute_result"
    }
   ],
   "source": [
    "np.shape(rindices)"
   ]
  },
  {
   "cell_type": "code",
   "execution_count": 52,
   "metadata": {},
   "outputs": [
    {
     "data": {
      "text/plain": [
       "numpy.ndarray"
      ]
     },
     "execution_count": 52,
     "metadata": {},
     "output_type": "execute_result"
    }
   ],
   "source": [
    "type(indices)"
   ]
  },
  {
   "cell_type": "code",
   "execution_count": 83,
   "metadata": {
    "scrolled": false
   },
   "outputs": [],
   "source": [
    "cindices=rindices\n"
   ]
  },
  {
   "cell_type": "code",
   "execution_count": 116,
   "metadata": {},
   "outputs": [
    {
     "data": {
      "text/plain": [
       "[[1732802],\n",
       " [1736892],\n",
       " [2581220],\n",
       " [2595460],\n",
       " [1074171],\n",
       " [2671349],\n",
       " [469027],\n",
       " [1318462],\n",
       " [177631],\n",
       " [1625972]]"
      ]
     },
     "execution_count": 116,
     "metadata": {},
     "output_type": "execute_result"
    }
   ],
   "source": [
    "type(cindices)\n",
    "# shape(cindices)\n",
    "cindices[0:10]"
   ]
  },
  {
   "cell_type": "code",
   "execution_count": 120,
   "metadata": {},
   "outputs": [
    {
     "data": {
      "text/plain": [
       "2843086"
      ]
     },
     "execution_count": 120,
     "metadata": {},
     "output_type": "execute_result"
    }
   ],
   "source": [
    "cindices.count([2812048])\n",
    "cindices.index([2812048])"
   ]
  },
  {
   "cell_type": "code",
   "execution_count": 121,
   "metadata": {},
   "outputs": [],
   "source": [
    "cindices[2843086]=[1732802]\n"
   ]
  },
  {
   "cell_type": "code",
   "execution_count": 122,
   "metadata": {},
   "outputs": [
    {
     "data": {
      "text/plain": [
       "False"
      ]
     },
     "execution_count": 122,
     "metadata": {},
     "output_type": "execute_result"
    }
   ],
   "source": [
    "[2812048] in cindices"
   ]
  },
  {
   "cell_type": "code",
   "execution_count": 124,
   "metadata": {
    "scrolled": true
   },
   "outputs": [],
   "source": [
    "dindices=np.array(cindices)"
   ]
  },
  {
   "cell_type": "markdown",
   "metadata": {},
   "source": [
    "\n"
   ]
  },
  {
   "cell_type": "code",
   "execution_count": 125,
   "metadata": {},
   "outputs": [
    {
     "data": {
      "text/plain": [
       "array([[1732802],\n",
       "       [1736892],\n",
       "       [2581220],\n",
       "       [2595460],\n",
       "       [1074171],\n",
       "       [2671349],\n",
       "       [ 469027],\n",
       "       [1318462],\n",
       "       [ 177631],\n",
       "       [1625972]])"
      ]
     },
     "execution_count": 125,
     "metadata": {},
     "output_type": "execute_result"
    }
   ],
   "source": [
    "dindices[0:10]"
   ]
  },
  {
   "cell_type": "code",
   "execution_count": null,
   "metadata": {},
   "outputs": [],
   "source": []
  },
  {
   "cell_type": "code",
   "execution_count": 105,
   "metadata": {},
   "outputs": [
    {
     "data": {
      "text/plain": [
       "numpy.ndarray"
      ]
     },
     "execution_count": 105,
     "metadata": {},
     "output_type": "execute_result"
    }
   ],
   "source": [
    "type(dindices)"
   ]
  },
  {
   "cell_type": "code",
   "execution_count": null,
   "metadata": {},
   "outputs": [],
   "source": []
  },
  {
   "cell_type": "code",
   "execution_count": 86,
   "metadata": {},
   "outputs": [],
   "source": []
  },
  {
   "cell_type": "code",
   "execution_count": null,
   "metadata": {},
   "outputs": [],
   "source": []
  },
  {
   "cell_type": "code",
   "execution_count": 97,
   "metadata": {
    "collapsed": true
   },
   "outputs": [
    {
     "name": "stdout",
     "output_type": "stream",
     "text": [
      "[[1732802]\n",
      " [1736892]\n",
      " [2581220]\n",
      " [2595460]\n",
      " [1074171]\n",
      " [2671349]\n",
      " [ 469027]\n",
      " [1318462]\n",
      " [ 177631]\n",
      " [1625972]]\n"
     ]
    }
   ],
   "source": []
  },
  {
   "cell_type": "code",
   "execution_count": 126,
   "metadata": {
    "pycharm": {
     "is_executing": false,
     "name": "#%%\n"
    }
   },
   "outputs": [],
   "source": [
    "\n",
    "indices_inversed = le_item.inverse_transform(dindices)\n",
    "\n"
   ]
  },
  {
   "cell_type": "code",
   "execution_count": 127,
   "metadata": {},
   "outputs": [
    {
     "name": "stdout",
     "output_type": "stream",
     "text": [
      "[ 7937154  7956777 11837248 11890014  4923358 12208199  2147287  5998605\n",
      "   770121  7427997  8356883 10056453  2892645  1502966 11112748 11918292\n",
      "  2369570  7343746   776376  3760863]\n"
     ]
    }
   ],
   "source": [
    "print(indices_inversed[0:20])"
   ]
  },
  {
   "cell_type": "code",
   "execution_count": 130,
   "metadata": {},
   "outputs": [],
   "source": [
    "indices_inversed_reshape=indices_inversed.reshape(102848, 31)"
   ]
  },
  {
   "cell_type": "code",
   "execution_count": 132,
   "metadata": {},
   "outputs": [
    {
     "data": {
      "text/plain": [
       "array([[ 7937154,  7956777, 11837248, 11890014,  4923358, 12208199,\n",
       "         2147287,  5998605,   770121,  7427997,  8356883, 10056453,\n",
       "         2892645,  1502966, 11112748, 11918292,  2369570,  7343746,\n",
       "          776376,  3760863,  4394063,  7062908, 12622706, 11680441,\n",
       "         6591760,  6185471,  8617073,  9163804,  5108875,  2112375,\n",
       "        10454008],\n",
       "       [ 8410857,   151894,  9927200, 11246450, 12006552,  8579541,\n",
       "         5503412,  5950891,  7476953, 10706841,  8018463,  8449727,\n",
       "        10838401,  9251342,  5944228,  9662371, 12059293,  1529535,\n",
       "         2208496, 11931916, 11634281,  8470060, 12134318,   216363,\n",
       "         4291315,  6993531,  9050405,  5132622, 12304697,  7541396,\n",
       "         4916669]], dtype=int64)"
      ]
     },
     "execution_count": 132,
     "metadata": {},
     "output_type": "execute_result"
    }
   ],
   "source": [
    "indices_inversed_reshape[0:2,:]"
   ]
  },
  {
   "cell_type": "code",
   "execution_count": 133,
   "metadata": {
    "pycharm": {
     "is_executing": false,
     "name": "#%%\n"
    }
   },
   "outputs": [],
   "source": [
    "indices_inversed_str = [str(li) for li in indices_inversed_reshape]\n",
    "\n"
   ]
  },
  {
   "cell_type": "code",
   "execution_count": 57,
   "metadata": {},
   "outputs": [],
   "source": []
  },
  {
   "cell_type": "code",
   "execution_count": 135,
   "metadata": {
    "pycharm": {
     "is_executing": false,
     "name": "#%%\n"
    }
   },
   "outputs": [
    {
     "data": {
      "text/plain": [
       "array([ 7937154,  8410857,  8472223, ...,  9776214, 10391871,  5619538],\n",
       "      dtype=int64)"
      ]
     },
     "execution_count": 135,
     "metadata": {},
     "output_type": "execute_result"
    }
   ],
   "source": [
    "indices_inversed_reshape[:,0]\n",
    "\n"
   ]
  },
  {
   "cell_type": "code",
   "execution_count": 58,
   "metadata": {},
   "outputs": [
    {
     "data": {
      "text/plain": [
       "array([ 2.62690840e-12,  3.43209096e-12,  1.61058245e-11,  1.61578262e-11,\n",
       "       -6.41683361e-12,  1.67832858e-11, -1.49542545e-11, -2.99289933e-12,\n",
       "       -1.93007644e-11,  1.74257233e-12,  4.28644159e-12,  9.68970385e-12,\n",
       "       -1.30595391e-11, -1.71947923e-11,  1.29671134e-11,  1.58760708e-11,\n",
       "       -1.43645125e-11,  1.64555387e-12, -1.93583447e-11, -1.04817324e-11,\n",
       "       -8.90061071e-12,  8.77256456e-13,  1.84948317e-11,  1.48232516e-11,\n",
       "       -7.95892983e-13, -2.24424467e-12,  4.83694367e-12,  7.45384313e-12,\n",
       "       -6.54903529e-12, -1.51746554e-11,  1.11691964e-11])"
      ]
     },
     "execution_count": 58,
     "metadata": {},
     "output_type": "execute_result"
    }
   ],
   "source": []
  },
  {
   "cell_type": "code",
   "execution_count": 137,
   "metadata": {
    "pycharm": {
     "is_executing": false,
     "name": "#%%\n"
    }
   },
   "outputs": [],
   "source": [
    "for i in range(indices_inversed_reshape.shape[1]):\n",
    "    test_counts['recomend_'+str(i)] = indices_inversed_reshape[:,i]\n",
    "\n"
   ]
  },
  {
   "cell_type": "code",
   "execution_count": null,
   "metadata": {},
   "outputs": [],
   "source": []
  },
  {
   "cell_type": "code",
   "execution_count": 138,
   "metadata": {
    "pycharm": {
     "is_executing": false,
     "name": "#%%\n"
    }
   },
   "outputs": [
    {
     "data": {
      "text/html": [
       "<div>\n",
       "<style scoped>\n",
       "    .dataframe tbody tr th:only-of-type {\n",
       "        vertical-align: middle;\n",
       "    }\n",
       "\n",
       "    .dataframe tbody tr th {\n",
       "        vertical-align: top;\n",
       "    }\n",
       "\n",
       "    .dataframe thead th {\n",
       "        text-align: right;\n",
       "    }\n",
       "</style>\n",
       "<table border=\"1\" class=\"dataframe\">\n",
       "  <thead>\n",
       "    <tr style=\"text-align: right;\">\n",
       "      <th></th>\n",
       "      <th>buyer_admin_id</th>\n",
       "      <th>item_id</th>\n",
       "      <th>count</th>\n",
       "      <th>irank</th>\n",
       "      <th>item</th>\n",
       "      <th>recomend_0</th>\n",
       "      <th>recomend_1</th>\n",
       "      <th>recomend_2</th>\n",
       "      <th>recomend_3</th>\n",
       "      <th>recomend_4</th>\n",
       "      <th>...</th>\n",
       "      <th>recomend_21</th>\n",
       "      <th>recomend_22</th>\n",
       "      <th>recomend_23</th>\n",
       "      <th>recomend_24</th>\n",
       "      <th>recomend_25</th>\n",
       "      <th>recomend_26</th>\n",
       "      <th>recomend_27</th>\n",
       "      <th>recomend_28</th>\n",
       "      <th>recomend_29</th>\n",
       "      <th>recomend_30</th>\n",
       "    </tr>\n",
       "  </thead>\n",
       "  <tbody>\n",
       "    <tr>\n",
       "      <th>0</th>\n",
       "      <td>152</td>\n",
       "      <td>7937154</td>\n",
       "      <td>1</td>\n",
       "      <td>3</td>\n",
       "      <td>1732802</td>\n",
       "      <td>7937154</td>\n",
       "      <td>7956777</td>\n",
       "      <td>11837248</td>\n",
       "      <td>11890014</td>\n",
       "      <td>4923358</td>\n",
       "      <td>...</td>\n",
       "      <td>7062908</td>\n",
       "      <td>12622706</td>\n",
       "      <td>11680441</td>\n",
       "      <td>6591760</td>\n",
       "      <td>6185471</td>\n",
       "      <td>8617073</td>\n",
       "      <td>9163804</td>\n",
       "      <td>5108875</td>\n",
       "      <td>2112375</td>\n",
       "      <td>10454008</td>\n",
       "    </tr>\n",
       "    <tr>\n",
       "      <th>1</th>\n",
       "      <td>152</td>\n",
       "      <td>8410857</td>\n",
       "      <td>1</td>\n",
       "      <td>2</td>\n",
       "      <td>1833065</td>\n",
       "      <td>8410857</td>\n",
       "      <td>151894</td>\n",
       "      <td>9927200</td>\n",
       "      <td>11246450</td>\n",
       "      <td>12006552</td>\n",
       "      <td>...</td>\n",
       "      <td>8470060</td>\n",
       "      <td>12134318</td>\n",
       "      <td>216363</td>\n",
       "      <td>4291315</td>\n",
       "      <td>6993531</td>\n",
       "      <td>9050405</td>\n",
       "      <td>5132622</td>\n",
       "      <td>12304697</td>\n",
       "      <td>7541396</td>\n",
       "      <td>4916669</td>\n",
       "    </tr>\n",
       "    <tr>\n",
       "      <th>2</th>\n",
       "      <td>152</td>\n",
       "      <td>8472223</td>\n",
       "      <td>1</td>\n",
       "      <td>4</td>\n",
       "      <td>1846548</td>\n",
       "      <td>8472223</td>\n",
       "      <td>22396</td>\n",
       "      <td>9812496</td>\n",
       "      <td>11571407</td>\n",
       "      <td>3798258</td>\n",
       "      <td>...</td>\n",
       "      <td>6823781</td>\n",
       "      <td>1109750</td>\n",
       "      <td>4374706</td>\n",
       "      <td>1288234</td>\n",
       "      <td>8364638</td>\n",
       "      <td>11131685</td>\n",
       "      <td>10626091</td>\n",
       "      <td>1717757</td>\n",
       "      <td>4332301</td>\n",
       "      <td>12582560</td>\n",
       "    </tr>\n",
       "    <tr>\n",
       "      <th>3</th>\n",
       "      <td>152</td>\n",
       "      <td>9891513</td>\n",
       "      <td>1</td>\n",
       "      <td>6</td>\n",
       "      <td>2163974</td>\n",
       "      <td>9891513</td>\n",
       "      <td>695019</td>\n",
       "      <td>8794781</td>\n",
       "      <td>2494499</td>\n",
       "      <td>2321876</td>\n",
       "      <td>...</td>\n",
       "      <td>6119131</td>\n",
       "      <td>12578155</td>\n",
       "      <td>4981824</td>\n",
       "      <td>12546505</td>\n",
       "      <td>253916</td>\n",
       "      <td>5243040</td>\n",
       "      <td>3427003</td>\n",
       "      <td>53679</td>\n",
       "      <td>4163715</td>\n",
       "      <td>11869533</td>\n",
       "    </tr>\n",
       "    <tr>\n",
       "      <th>4</th>\n",
       "      <td>282</td>\n",
       "      <td>688799</td>\n",
       "      <td>1</td>\n",
       "      <td>10</td>\n",
       "      <td>159923</td>\n",
       "      <td>688799</td>\n",
       "      <td>3360568</td>\n",
       "      <td>5660546</td>\n",
       "      <td>6885073</td>\n",
       "      <td>10526709</td>\n",
       "      <td>...</td>\n",
       "      <td>576598</td>\n",
       "      <td>10126081</td>\n",
       "      <td>4618938</td>\n",
       "      <td>656983</td>\n",
       "      <td>3429353</td>\n",
       "      <td>3300782</td>\n",
       "      <td>7810370</td>\n",
       "      <td>4624789</td>\n",
       "      <td>10468371</td>\n",
       "      <td>7936754</td>\n",
       "    </tr>\n",
       "  </tbody>\n",
       "</table>\n",
       "<p>5 rows × 36 columns</p>\n",
       "</div>"
      ],
      "text/plain": [
       "   buyer_admin_id  item_id  count  irank     item  recomend_0  recomend_1  \\\n",
       "0             152  7937154      1      3  1732802     7937154     7956777   \n",
       "1             152  8410857      1      2  1833065     8410857      151894   \n",
       "2             152  8472223      1      4  1846548     8472223       22396   \n",
       "3             152  9891513      1      6  2163974     9891513      695019   \n",
       "4             282   688799      1     10   159923      688799     3360568   \n",
       "\n",
       "   recomend_2  recomend_3  recomend_4  ...  recomend_21  recomend_22  \\\n",
       "0    11837248    11890014     4923358  ...      7062908     12622706   \n",
       "1     9927200    11246450    12006552  ...      8470060     12134318   \n",
       "2     9812496    11571407     3798258  ...      6823781      1109750   \n",
       "3     8794781     2494499     2321876  ...      6119131     12578155   \n",
       "4     5660546     6885073    10526709  ...       576598     10126081   \n",
       "\n",
       "   recomend_23  recomend_24  recomend_25  recomend_26  recomend_27  \\\n",
       "0     11680441      6591760      6185471      8617073      9163804   \n",
       "1       216363      4291315      6993531      9050405      5132622   \n",
       "2      4374706      1288234      8364638     11131685     10626091   \n",
       "3      4981824     12546505       253916      5243040      3427003   \n",
       "4      4618938       656983      3429353      3300782      7810370   \n",
       "\n",
       "   recomend_28  recomend_29  recomend_30  \n",
       "0      5108875      2112375     10454008  \n",
       "1     12304697      7541396      4916669  \n",
       "2      1717757      4332301     12582560  \n",
       "3        53679      4163715     11869533  \n",
       "4      4624789     10468371      7936754  \n",
       "\n",
       "[5 rows x 36 columns]"
      ]
     },
     "execution_count": 138,
     "metadata": {},
     "output_type": "execute_result"
    }
   ],
   "source": [
    "test_counts.head()"
   ]
  },
  {
   "cell_type": "code",
   "execution_count": 139,
   "metadata": {
    "pycharm": {
     "is_executing": false,
     "name": "#%%\n"
    }
   },
   "outputs": [],
   "source": [
    "test_counts.to_csv('test_counts.csv',index=False,encoding='gbk')"
   ]
  },
  {
   "cell_type": "code",
   "execution_count": 140,
   "metadata": {
    "pycharm": {
     "is_executing": false,
     "name": "#%%\n"
    }
   },
   "outputs": [],
   "source": [
    "test_counts = pd.read_csv('test_counts.csv')"
   ]
  },
  {
   "cell_type": "code",
   "execution_count": 141,
   "metadata": {
    "pycharm": {
     "is_executing": false,
     "name": "#%%\n"
    }
   },
   "outputs": [
    {
     "data": {
      "text/html": [
       "<div>\n",
       "<style scoped>\n",
       "    .dataframe tbody tr th:only-of-type {\n",
       "        vertical-align: middle;\n",
       "    }\n",
       "\n",
       "    .dataframe tbody tr th {\n",
       "        vertical-align: top;\n",
       "    }\n",
       "\n",
       "    .dataframe thead th {\n",
       "        text-align: right;\n",
       "    }\n",
       "</style>\n",
       "<table border=\"1\" class=\"dataframe\">\n",
       "  <thead>\n",
       "    <tr style=\"text-align: right;\">\n",
       "      <th></th>\n",
       "      <th>buyer_admin_id</th>\n",
       "      <th>item_id</th>\n",
       "      <th>count</th>\n",
       "      <th>irank</th>\n",
       "      <th>item</th>\n",
       "      <th>recomend_0</th>\n",
       "      <th>recomend_1</th>\n",
       "      <th>recomend_2</th>\n",
       "      <th>recomend_3</th>\n",
       "      <th>recomend_4</th>\n",
       "      <th>...</th>\n",
       "      <th>recomend_21</th>\n",
       "      <th>recomend_22</th>\n",
       "      <th>recomend_23</th>\n",
       "      <th>recomend_24</th>\n",
       "      <th>recomend_25</th>\n",
       "      <th>recomend_26</th>\n",
       "      <th>recomend_27</th>\n",
       "      <th>recomend_28</th>\n",
       "      <th>recomend_29</th>\n",
       "      <th>recomend_30</th>\n",
       "    </tr>\n",
       "  </thead>\n",
       "  <tbody>\n",
       "    <tr>\n",
       "      <th>0</th>\n",
       "      <td>152</td>\n",
       "      <td>7937154</td>\n",
       "      <td>1</td>\n",
       "      <td>3</td>\n",
       "      <td>1732802</td>\n",
       "      <td>7937154</td>\n",
       "      <td>7956777</td>\n",
       "      <td>11837248</td>\n",
       "      <td>11890014</td>\n",
       "      <td>4923358</td>\n",
       "      <td>...</td>\n",
       "      <td>7062908</td>\n",
       "      <td>12622706</td>\n",
       "      <td>11680441</td>\n",
       "      <td>6591760</td>\n",
       "      <td>6185471</td>\n",
       "      <td>8617073</td>\n",
       "      <td>9163804</td>\n",
       "      <td>5108875</td>\n",
       "      <td>2112375</td>\n",
       "      <td>10454008</td>\n",
       "    </tr>\n",
       "    <tr>\n",
       "      <th>1</th>\n",
       "      <td>152</td>\n",
       "      <td>8410857</td>\n",
       "      <td>1</td>\n",
       "      <td>2</td>\n",
       "      <td>1833065</td>\n",
       "      <td>8410857</td>\n",
       "      <td>151894</td>\n",
       "      <td>9927200</td>\n",
       "      <td>11246450</td>\n",
       "      <td>12006552</td>\n",
       "      <td>...</td>\n",
       "      <td>8470060</td>\n",
       "      <td>12134318</td>\n",
       "      <td>216363</td>\n",
       "      <td>4291315</td>\n",
       "      <td>6993531</td>\n",
       "      <td>9050405</td>\n",
       "      <td>5132622</td>\n",
       "      <td>12304697</td>\n",
       "      <td>7541396</td>\n",
       "      <td>4916669</td>\n",
       "    </tr>\n",
       "    <tr>\n",
       "      <th>2</th>\n",
       "      <td>152</td>\n",
       "      <td>8472223</td>\n",
       "      <td>1</td>\n",
       "      <td>4</td>\n",
       "      <td>1846548</td>\n",
       "      <td>8472223</td>\n",
       "      <td>22396</td>\n",
       "      <td>9812496</td>\n",
       "      <td>11571407</td>\n",
       "      <td>3798258</td>\n",
       "      <td>...</td>\n",
       "      <td>6823781</td>\n",
       "      <td>1109750</td>\n",
       "      <td>4374706</td>\n",
       "      <td>1288234</td>\n",
       "      <td>8364638</td>\n",
       "      <td>11131685</td>\n",
       "      <td>10626091</td>\n",
       "      <td>1717757</td>\n",
       "      <td>4332301</td>\n",
       "      <td>12582560</td>\n",
       "    </tr>\n",
       "    <tr>\n",
       "      <th>3</th>\n",
       "      <td>152</td>\n",
       "      <td>9891513</td>\n",
       "      <td>1</td>\n",
       "      <td>6</td>\n",
       "      <td>2163974</td>\n",
       "      <td>9891513</td>\n",
       "      <td>695019</td>\n",
       "      <td>8794781</td>\n",
       "      <td>2494499</td>\n",
       "      <td>2321876</td>\n",
       "      <td>...</td>\n",
       "      <td>6119131</td>\n",
       "      <td>12578155</td>\n",
       "      <td>4981824</td>\n",
       "      <td>12546505</td>\n",
       "      <td>253916</td>\n",
       "      <td>5243040</td>\n",
       "      <td>3427003</td>\n",
       "      <td>53679</td>\n",
       "      <td>4163715</td>\n",
       "      <td>11869533</td>\n",
       "    </tr>\n",
       "    <tr>\n",
       "      <th>4</th>\n",
       "      <td>282</td>\n",
       "      <td>688799</td>\n",
       "      <td>1</td>\n",
       "      <td>10</td>\n",
       "      <td>159923</td>\n",
       "      <td>688799</td>\n",
       "      <td>3360568</td>\n",
       "      <td>5660546</td>\n",
       "      <td>6885073</td>\n",
       "      <td>10526709</td>\n",
       "      <td>...</td>\n",
       "      <td>576598</td>\n",
       "      <td>10126081</td>\n",
       "      <td>4618938</td>\n",
       "      <td>656983</td>\n",
       "      <td>3429353</td>\n",
       "      <td>3300782</td>\n",
       "      <td>7810370</td>\n",
       "      <td>4624789</td>\n",
       "      <td>10468371</td>\n",
       "      <td>7936754</td>\n",
       "    </tr>\n",
       "  </tbody>\n",
       "</table>\n",
       "<p>5 rows × 36 columns</p>\n",
       "</div>"
      ],
      "text/plain": [
       "   buyer_admin_id  item_id  count  irank     item  recomend_0  recomend_1  \\\n",
       "0             152  7937154      1      3  1732802     7937154     7956777   \n",
       "1             152  8410857      1      2  1833065     8410857      151894   \n",
       "2             152  8472223      1      4  1846548     8472223       22396   \n",
       "3             152  9891513      1      6  2163974     9891513      695019   \n",
       "4             282   688799      1     10   159923      688799     3360568   \n",
       "\n",
       "   recomend_2  recomend_3  recomend_4  ...  recomend_21  recomend_22  \\\n",
       "0    11837248    11890014     4923358  ...      7062908     12622706   \n",
       "1     9927200    11246450    12006552  ...      8470060     12134318   \n",
       "2     9812496    11571407     3798258  ...      6823781      1109750   \n",
       "3     8794781     2494499     2321876  ...      6119131     12578155   \n",
       "4     5660546     6885073    10526709  ...       576598     10126081   \n",
       "\n",
       "   recomend_23  recomend_24  recomend_25  recomend_26  recomend_27  \\\n",
       "0     11680441      6591760      6185471      8617073      9163804   \n",
       "1       216363      4291315      6993531      9050405      5132622   \n",
       "2      4374706      1288234      8364638     11131685     10626091   \n",
       "3      4981824     12546505       253916      5243040      3427003   \n",
       "4      4618938       656983      3429353      3300782      7810370   \n",
       "\n",
       "   recomend_28  recomend_29  recomend_30  \n",
       "0      5108875      2112375     10454008  \n",
       "1     12304697      7541396      4916669  \n",
       "2      1717757      4332301     12582560  \n",
       "3        53679      4163715     11869533  \n",
       "4      4624789     10468371      7936754  \n",
       "\n",
       "[5 rows x 36 columns]"
      ]
     },
     "execution_count": 141,
     "metadata": {},
     "output_type": "execute_result"
    }
   ],
   "source": [
    "test_counts.head()\n",
    "\n"
   ]
  },
  {
   "cell_type": "code",
   "execution_count": 143,
   "metadata": {
    "pycharm": {
     "is_executing": false,
     "name": "#%%\n"
    }
   },
   "outputs": [],
   "source": [
    "test_counts.groupby('buyer_admin_id').apply(lambda t: t[t.irank==t.irank.min()]).reset_index(drop=True).drop(['item_id','count','irank','item','recomend_0'],axis=1).to_csv('username_svd.csv',index=False,header=False,encoding='gbk')\n"
   ]
  },
  {
   "cell_type": "code",
   "execution_count": 147,
   "metadata": {
    "pycharm": {
     "is_executing": false,
     "name": "#%%\n"
    }
   },
   "outputs": [],
   "source": [
    "username_svd = pd.read_csv('username_svd.csv')"
   ]
  },
  {
   "cell_type": "code",
   "execution_count": 148,
   "metadata": {
    "pycharm": {
     "is_executing": false,
     "name": "#%%\n"
    },
    "scrolled": true
   },
   "outputs": [
    {
     "data": {
      "text/html": [
       "<div>\n",
       "<style scoped>\n",
       "    .dataframe tbody tr th:only-of-type {\n",
       "        vertical-align: middle;\n",
       "    }\n",
       "\n",
       "    .dataframe tbody tr th {\n",
       "        vertical-align: top;\n",
       "    }\n",
       "\n",
       "    .dataframe thead th {\n",
       "        text-align: right;\n",
       "    }\n",
       "</style>\n",
       "<table border=\"1\" class=\"dataframe\">\n",
       "  <thead>\n",
       "    <tr style=\"text-align: right;\">\n",
       "      <th></th>\n",
       "      <th>152</th>\n",
       "      <th>151894</th>\n",
       "      <th>9927200</th>\n",
       "      <th>11246450</th>\n",
       "      <th>12006552</th>\n",
       "      <th>8579541</th>\n",
       "      <th>5503412</th>\n",
       "      <th>5950891</th>\n",
       "      <th>7476953</th>\n",
       "      <th>10706841</th>\n",
       "      <th>...</th>\n",
       "      <th>8470060</th>\n",
       "      <th>12134318</th>\n",
       "      <th>216363</th>\n",
       "      <th>4291315</th>\n",
       "      <th>6993531</th>\n",
       "      <th>9050405</th>\n",
       "      <th>5132622</th>\n",
       "      <th>12304697</th>\n",
       "      <th>7541396</th>\n",
       "      <th>4916669</th>\n",
       "    </tr>\n",
       "  </thead>\n",
       "  <tbody>\n",
       "    <tr>\n",
       "      <th>0</th>\n",
       "      <td>282</td>\n",
       "      <td>10181555</td>\n",
       "      <td>3046277</td>\n",
       "      <td>9276603</td>\n",
       "      <td>11105688</td>\n",
       "      <td>5955714</td>\n",
       "      <td>12256939</td>\n",
       "      <td>5199140</td>\n",
       "      <td>12509246</td>\n",
       "      <td>11170698</td>\n",
       "      <td>...</td>\n",
       "      <td>5123645</td>\n",
       "      <td>10278770</td>\n",
       "      <td>1744469</td>\n",
       "      <td>1629541</td>\n",
       "      <td>1299826</td>\n",
       "      <td>4797461</td>\n",
       "      <td>3287829</td>\n",
       "      <td>2537097</td>\n",
       "      <td>8998883</td>\n",
       "      <td>3084757</td>\n",
       "    </tr>\n",
       "    <tr>\n",
       "      <th>1</th>\n",
       "      <td>321</td>\n",
       "      <td>12461938</td>\n",
       "      <td>5768846</td>\n",
       "      <td>7327574</td>\n",
       "      <td>11561711</td>\n",
       "      <td>4323750</td>\n",
       "      <td>3888946</td>\n",
       "      <td>11467384</td>\n",
       "      <td>2731903</td>\n",
       "      <td>11191705</td>\n",
       "      <td>...</td>\n",
       "      <td>6082751</td>\n",
       "      <td>8680259</td>\n",
       "      <td>1791588</td>\n",
       "      <td>5938961</td>\n",
       "      <td>11925690</td>\n",
       "      <td>2069989</td>\n",
       "      <td>8301436</td>\n",
       "      <td>8714418</td>\n",
       "      <td>3489275</td>\n",
       "      <td>7521686</td>\n",
       "    </tr>\n",
       "    <tr>\n",
       "      <th>2</th>\n",
       "      <td>809</td>\n",
       "      <td>7724613</td>\n",
       "      <td>11556680</td>\n",
       "      <td>357107</td>\n",
       "      <td>10109898</td>\n",
       "      <td>9885048</td>\n",
       "      <td>1095495</td>\n",
       "      <td>6642028</td>\n",
       "      <td>6972112</td>\n",
       "      <td>3604449</td>\n",
       "      <td>...</td>\n",
       "      <td>5679146</td>\n",
       "      <td>9532882</td>\n",
       "      <td>216997</td>\n",
       "      <td>8500199</td>\n",
       "      <td>857203</td>\n",
       "      <td>6278132</td>\n",
       "      <td>9862680</td>\n",
       "      <td>4158135</td>\n",
       "      <td>3417109</td>\n",
       "      <td>8708876</td>\n",
       "    </tr>\n",
       "    <tr>\n",
       "      <th>3</th>\n",
       "      <td>870</td>\n",
       "      <td>1277862</td>\n",
       "      <td>6162280</td>\n",
       "      <td>11161118</td>\n",
       "      <td>8329694</td>\n",
       "      <td>12210483</td>\n",
       "      <td>4694917</td>\n",
       "      <td>1302351</td>\n",
       "      <td>354222</td>\n",
       "      <td>6083050</td>\n",
       "      <td>...</td>\n",
       "      <td>2143334</td>\n",
       "      <td>12130779</td>\n",
       "      <td>1285791</td>\n",
       "      <td>6552337</td>\n",
       "      <td>3592085</td>\n",
       "      <td>1615696</td>\n",
       "      <td>5210881</td>\n",
       "      <td>170</td>\n",
       "      <td>10441831</td>\n",
       "      <td>5543564</td>\n",
       "    </tr>\n",
       "    <tr>\n",
       "      <th>4</th>\n",
       "      <td>2410</td>\n",
       "      <td>5142695</td>\n",
       "      <td>10393629</td>\n",
       "      <td>5902911</td>\n",
       "      <td>2062876</td>\n",
       "      <td>9283588</td>\n",
       "      <td>10430395</td>\n",
       "      <td>4114089</td>\n",
       "      <td>12069164</td>\n",
       "      <td>583972</td>\n",
       "      <td>...</td>\n",
       "      <td>7580015</td>\n",
       "      <td>1371409</td>\n",
       "      <td>5731300</td>\n",
       "      <td>6370676</td>\n",
       "      <td>977100</td>\n",
       "      <td>3891447</td>\n",
       "      <td>5531939</td>\n",
       "      <td>9262785</td>\n",
       "      <td>4996548</td>\n",
       "      <td>8915895</td>\n",
       "    </tr>\n",
       "  </tbody>\n",
       "</table>\n",
       "<p>5 rows × 31 columns</p>\n",
       "</div>"
      ],
      "text/plain": [
       "    152    151894   9927200  11246450  12006552   8579541   5503412   5950891  \\\n",
       "0   282  10181555   3046277   9276603  11105688   5955714  12256939   5199140   \n",
       "1   321  12461938   5768846   7327574  11561711   4323750   3888946  11467384   \n",
       "2   809   7724613  11556680    357107  10109898   9885048   1095495   6642028   \n",
       "3   870   1277862   6162280  11161118   8329694  12210483   4694917   1302351   \n",
       "4  2410   5142695  10393629   5902911   2062876   9283588  10430395   4114089   \n",
       "\n",
       "    7476953  10706841  ...  8470060  12134318   216363  4291315   6993531  \\\n",
       "0  12509246  11170698  ...  5123645  10278770  1744469  1629541   1299826   \n",
       "1   2731903  11191705  ...  6082751   8680259  1791588  5938961  11925690   \n",
       "2   6972112   3604449  ...  5679146   9532882   216997  8500199    857203   \n",
       "3    354222   6083050  ...  2143334  12130779  1285791  6552337   3592085   \n",
       "4  12069164    583972  ...  7580015   1371409  5731300  6370676    977100   \n",
       "\n",
       "   9050405  5132622  12304697   7541396  4916669  \n",
       "0  4797461  3287829   2537097   8998883  3084757  \n",
       "1  2069989  8301436   8714418   3489275  7521686  \n",
       "2  6278132  9862680   4158135   3417109  8708876  \n",
       "3  1615696  5210881       170  10441831  5543564  \n",
       "4  3891447  5531939   9262785   4996548  8915895  \n",
       "\n",
       "[5 rows x 31 columns]"
      ]
     },
     "execution_count": 148,
     "metadata": {},
     "output_type": "execute_result"
    }
   ],
   "source": [
    "username_svd.head()\n",
    "\n"
   ]
  },
  {
   "cell_type": "code",
   "execution_count": 149,
   "metadata": {},
   "outputs": [
    {
     "data": {
      "text/plain": [
       "(11388, 31)"
      ]
     },
     "execution_count": 149,
     "metadata": {},
     "output_type": "execute_result"
    }
   ],
   "source": [
    "np.shape(username_svd)"
   ]
  },
  {
   "cell_type": "code",
   "execution_count": 155,
   "metadata": {},
   "outputs": [
    {
     "ename": "TypeError",
     "evalue": "can't pickle SwigPyObject objects",
     "output_type": "error",
     "traceback": [
      "\u001b[1;31m---------------------------------------------------------------------------\u001b[0m",
      "\u001b[1;31mTypeError\u001b[0m                                 Traceback (most recent call last)",
      "\u001b[1;32m<ipython-input-155-de9a3b06e01d>\u001b[0m in \u001b[0;36m<module>\u001b[1;34m\u001b[0m\n\u001b[0;32m      2\u001b[0m \u001b[1;32mimport\u001b[0m \u001b[0mdill\u001b[0m\u001b[1;33m\u001b[0m\u001b[1;33m\u001b[0m\u001b[0m\n\u001b[0;32m      3\u001b[0m \u001b[0mfilename\u001b[0m\u001b[1;33m=\u001b[0m \u001b[1;34m'H:\\\\pythonchengx_u\\\\Tianchiantai\\\\dianshangtuijian\\\\SVDglobalsave.pkl'\u001b[0m\u001b[1;33m\u001b[0m\u001b[1;33m\u001b[0m\u001b[0m\n\u001b[1;32m----> 4\u001b[1;33m \u001b[0mdill\u001b[0m\u001b[1;33m.\u001b[0m\u001b[0mdump_session\u001b[0m\u001b[1;33m(\u001b[0m\u001b[0mfilename\u001b[0m\u001b[1;33m)\u001b[0m\u001b[1;33m\u001b[0m\u001b[1;33m\u001b[0m\u001b[0m\n\u001b[0m",
      "\u001b[1;32mH:\\Anaconda3\\lib\\site-packages\\dill\\_dill.py\u001b[0m in \u001b[0;36mdump_session\u001b[1;34m(filename, main, byref)\u001b[0m\n\u001b[0;32m    391\u001b[0m         \u001b[0mpickler\u001b[0m\u001b[1;33m.\u001b[0m\u001b[0m_recurse\u001b[0m \u001b[1;33m=\u001b[0m \u001b[1;32mFalse\u001b[0m \u001b[1;31m# disable pickling recursion for globals\u001b[0m\u001b[1;33m\u001b[0m\u001b[1;33m\u001b[0m\u001b[0m\n\u001b[0;32m    392\u001b[0m         \u001b[0mpickler\u001b[0m\u001b[1;33m.\u001b[0m\u001b[0m_session\u001b[0m \u001b[1;33m=\u001b[0m \u001b[1;32mTrue\u001b[0m  \u001b[1;31m# is best indicator of when pickling a session\u001b[0m\u001b[1;33m\u001b[0m\u001b[1;33m\u001b[0m\u001b[0m\n\u001b[1;32m--> 393\u001b[1;33m         \u001b[0mpickler\u001b[0m\u001b[1;33m.\u001b[0m\u001b[0mdump\u001b[0m\u001b[1;33m(\u001b[0m\u001b[0mmain\u001b[0m\u001b[1;33m)\u001b[0m\u001b[1;33m\u001b[0m\u001b[1;33m\u001b[0m\u001b[0m\n\u001b[0m\u001b[0;32m    394\u001b[0m     \u001b[1;32mfinally\u001b[0m\u001b[1;33m:\u001b[0m\u001b[1;33m\u001b[0m\u001b[1;33m\u001b[0m\u001b[0m\n\u001b[0;32m    395\u001b[0m         \u001b[1;32mif\u001b[0m \u001b[0mf\u001b[0m \u001b[1;32mis\u001b[0m \u001b[1;32mnot\u001b[0m \u001b[0mfilename\u001b[0m\u001b[1;33m:\u001b[0m  \u001b[1;31m# If newly opened file\u001b[0m\u001b[1;33m\u001b[0m\u001b[1;33m\u001b[0m\u001b[0m\n",
      "\u001b[1;32mH:\\Anaconda3\\lib\\pickle.py\u001b[0m in \u001b[0;36mdump\u001b[1;34m(self, obj)\u001b[0m\n\u001b[0;32m    435\u001b[0m         \u001b[1;32mif\u001b[0m \u001b[0mself\u001b[0m\u001b[1;33m.\u001b[0m\u001b[0mproto\u001b[0m \u001b[1;33m>=\u001b[0m \u001b[1;36m4\u001b[0m\u001b[1;33m:\u001b[0m\u001b[1;33m\u001b[0m\u001b[1;33m\u001b[0m\u001b[0m\n\u001b[0;32m    436\u001b[0m             \u001b[0mself\u001b[0m\u001b[1;33m.\u001b[0m\u001b[0mframer\u001b[0m\u001b[1;33m.\u001b[0m\u001b[0mstart_framing\u001b[0m\u001b[1;33m(\u001b[0m\u001b[1;33m)\u001b[0m\u001b[1;33m\u001b[0m\u001b[1;33m\u001b[0m\u001b[0m\n\u001b[1;32m--> 437\u001b[1;33m         \u001b[0mself\u001b[0m\u001b[1;33m.\u001b[0m\u001b[0msave\u001b[0m\u001b[1;33m(\u001b[0m\u001b[0mobj\u001b[0m\u001b[1;33m)\u001b[0m\u001b[1;33m\u001b[0m\u001b[1;33m\u001b[0m\u001b[0m\n\u001b[0m\u001b[0;32m    438\u001b[0m         \u001b[0mself\u001b[0m\u001b[1;33m.\u001b[0m\u001b[0mwrite\u001b[0m\u001b[1;33m(\u001b[0m\u001b[0mSTOP\u001b[0m\u001b[1;33m)\u001b[0m\u001b[1;33m\u001b[0m\u001b[1;33m\u001b[0m\u001b[0m\n\u001b[0;32m    439\u001b[0m         \u001b[0mself\u001b[0m\u001b[1;33m.\u001b[0m\u001b[0mframer\u001b[0m\u001b[1;33m.\u001b[0m\u001b[0mend_framing\u001b[0m\u001b[1;33m(\u001b[0m\u001b[1;33m)\u001b[0m\u001b[1;33m\u001b[0m\u001b[1;33m\u001b[0m\u001b[0m\n",
      "\u001b[1;32mH:\\Anaconda3\\lib\\pickle.py\u001b[0m in \u001b[0;36msave\u001b[1;34m(self, obj, save_persistent_id)\u001b[0m\n\u001b[0;32m    502\u001b[0m         \u001b[0mf\u001b[0m \u001b[1;33m=\u001b[0m \u001b[0mself\u001b[0m\u001b[1;33m.\u001b[0m\u001b[0mdispatch\u001b[0m\u001b[1;33m.\u001b[0m\u001b[0mget\u001b[0m\u001b[1;33m(\u001b[0m\u001b[0mt\u001b[0m\u001b[1;33m)\u001b[0m\u001b[1;33m\u001b[0m\u001b[1;33m\u001b[0m\u001b[0m\n\u001b[0;32m    503\u001b[0m         \u001b[1;32mif\u001b[0m \u001b[0mf\u001b[0m \u001b[1;32mis\u001b[0m \u001b[1;32mnot\u001b[0m \u001b[1;32mNone\u001b[0m\u001b[1;33m:\u001b[0m\u001b[1;33m\u001b[0m\u001b[1;33m\u001b[0m\u001b[0m\n\u001b[1;32m--> 504\u001b[1;33m             \u001b[0mf\u001b[0m\u001b[1;33m(\u001b[0m\u001b[0mself\u001b[0m\u001b[1;33m,\u001b[0m \u001b[0mobj\u001b[0m\u001b[1;33m)\u001b[0m \u001b[1;31m# Call unbound method with explicit self\u001b[0m\u001b[1;33m\u001b[0m\u001b[1;33m\u001b[0m\u001b[0m\n\u001b[0m\u001b[0;32m    505\u001b[0m             \u001b[1;32mreturn\u001b[0m\u001b[1;33m\u001b[0m\u001b[1;33m\u001b[0m\u001b[0m\n\u001b[0;32m    506\u001b[0m \u001b[1;33m\u001b[0m\u001b[0m\n",
      "\u001b[1;32mH:\\Anaconda3\\lib\\site-packages\\dill\\_dill.py\u001b[0m in \u001b[0;36msave_module\u001b[1;34m(pickler, obj)\u001b[0m\n\u001b[0;32m   1275\u001b[0m                 + [\"__builtins__\", \"__loader__\"]]\n\u001b[0;32m   1276\u001b[0m             pickler.save_reduce(_import_module, (obj.__name__,), obj=obj,\n\u001b[1;32m-> 1277\u001b[1;33m                                 state=_main_dict)\n\u001b[0m\u001b[0;32m   1278\u001b[0m             \u001b[0mlog\u001b[0m\u001b[1;33m.\u001b[0m\u001b[0minfo\u001b[0m\u001b[1;33m(\u001b[0m\u001b[1;34m\"# M1\"\u001b[0m\u001b[1;33m)\u001b[0m\u001b[1;33m\u001b[0m\u001b[1;33m\u001b[0m\u001b[0m\n\u001b[0;32m   1279\u001b[0m         \u001b[1;32melse\u001b[0m\u001b[1;33m:\u001b[0m\u001b[1;33m\u001b[0m\u001b[1;33m\u001b[0m\u001b[0m\n",
      "\u001b[1;32mH:\\Anaconda3\\lib\\pickle.py\u001b[0m in \u001b[0;36msave_reduce\u001b[1;34m(self, func, args, state, listitems, dictitems, obj)\u001b[0m\n\u001b[0;32m    660\u001b[0m \u001b[1;33m\u001b[0m\u001b[0m\n\u001b[0;32m    661\u001b[0m         \u001b[1;32mif\u001b[0m \u001b[0mstate\u001b[0m \u001b[1;32mis\u001b[0m \u001b[1;32mnot\u001b[0m \u001b[1;32mNone\u001b[0m\u001b[1;33m:\u001b[0m\u001b[1;33m\u001b[0m\u001b[1;33m\u001b[0m\u001b[0m\n\u001b[1;32m--> 662\u001b[1;33m             \u001b[0msave\u001b[0m\u001b[1;33m(\u001b[0m\u001b[0mstate\u001b[0m\u001b[1;33m)\u001b[0m\u001b[1;33m\u001b[0m\u001b[1;33m\u001b[0m\u001b[0m\n\u001b[0m\u001b[0;32m    663\u001b[0m             \u001b[0mwrite\u001b[0m\u001b[1;33m(\u001b[0m\u001b[0mBUILD\u001b[0m\u001b[1;33m)\u001b[0m\u001b[1;33m\u001b[0m\u001b[1;33m\u001b[0m\u001b[0m\n\u001b[0;32m    664\u001b[0m \u001b[1;33m\u001b[0m\u001b[0m\n",
      "\u001b[1;32mH:\\Anaconda3\\lib\\pickle.py\u001b[0m in \u001b[0;36msave\u001b[1;34m(self, obj, save_persistent_id)\u001b[0m\n\u001b[0;32m    502\u001b[0m         \u001b[0mf\u001b[0m \u001b[1;33m=\u001b[0m \u001b[0mself\u001b[0m\u001b[1;33m.\u001b[0m\u001b[0mdispatch\u001b[0m\u001b[1;33m.\u001b[0m\u001b[0mget\u001b[0m\u001b[1;33m(\u001b[0m\u001b[0mt\u001b[0m\u001b[1;33m)\u001b[0m\u001b[1;33m\u001b[0m\u001b[1;33m\u001b[0m\u001b[0m\n\u001b[0;32m    503\u001b[0m         \u001b[1;32mif\u001b[0m \u001b[0mf\u001b[0m \u001b[1;32mis\u001b[0m \u001b[1;32mnot\u001b[0m \u001b[1;32mNone\u001b[0m\u001b[1;33m:\u001b[0m\u001b[1;33m\u001b[0m\u001b[1;33m\u001b[0m\u001b[0m\n\u001b[1;32m--> 504\u001b[1;33m             \u001b[0mf\u001b[0m\u001b[1;33m(\u001b[0m\u001b[0mself\u001b[0m\u001b[1;33m,\u001b[0m \u001b[0mobj\u001b[0m\u001b[1;33m)\u001b[0m \u001b[1;31m# Call unbound method with explicit self\u001b[0m\u001b[1;33m\u001b[0m\u001b[1;33m\u001b[0m\u001b[0m\n\u001b[0m\u001b[0;32m    505\u001b[0m             \u001b[1;32mreturn\u001b[0m\u001b[1;33m\u001b[0m\u001b[1;33m\u001b[0m\u001b[0m\n\u001b[0;32m    506\u001b[0m \u001b[1;33m\u001b[0m\u001b[0m\n",
      "\u001b[1;32mH:\\Anaconda3\\lib\\site-packages\\dill\\_dill.py\u001b[0m in \u001b[0;36msave_module_dict\u001b[1;34m(pickler, obj)\u001b[0m\n\u001b[0;32m    908\u001b[0m             \u001b[1;31m# we only care about session the first pass thru\u001b[0m\u001b[1;33m\u001b[0m\u001b[1;33m\u001b[0m\u001b[1;33m\u001b[0m\u001b[0m\n\u001b[0;32m    909\u001b[0m             \u001b[0mpickler\u001b[0m\u001b[1;33m.\u001b[0m\u001b[0m_session\u001b[0m \u001b[1;33m=\u001b[0m \u001b[1;32mFalse\u001b[0m\u001b[1;33m\u001b[0m\u001b[1;33m\u001b[0m\u001b[0m\n\u001b[1;32m--> 910\u001b[1;33m         \u001b[0mStockPickler\u001b[0m\u001b[1;33m.\u001b[0m\u001b[0msave_dict\u001b[0m\u001b[1;33m(\u001b[0m\u001b[0mpickler\u001b[0m\u001b[1;33m,\u001b[0m \u001b[0mobj\u001b[0m\u001b[1;33m)\u001b[0m\u001b[1;33m\u001b[0m\u001b[1;33m\u001b[0m\u001b[0m\n\u001b[0m\u001b[0;32m    911\u001b[0m         \u001b[0mlog\u001b[0m\u001b[1;33m.\u001b[0m\u001b[0minfo\u001b[0m\u001b[1;33m(\u001b[0m\u001b[1;34m\"# D2\"\u001b[0m\u001b[1;33m)\u001b[0m\u001b[1;33m\u001b[0m\u001b[1;33m\u001b[0m\u001b[0m\n\u001b[0;32m    912\u001b[0m     \u001b[1;32mreturn\u001b[0m\u001b[1;33m\u001b[0m\u001b[1;33m\u001b[0m\u001b[0m\n",
      "\u001b[1;32mH:\\Anaconda3\\lib\\pickle.py\u001b[0m in \u001b[0;36msave_dict\u001b[1;34m(self, obj)\u001b[0m\n\u001b[0;32m    854\u001b[0m \u001b[1;33m\u001b[0m\u001b[0m\n\u001b[0;32m    855\u001b[0m         \u001b[0mself\u001b[0m\u001b[1;33m.\u001b[0m\u001b[0mmemoize\u001b[0m\u001b[1;33m(\u001b[0m\u001b[0mobj\u001b[0m\u001b[1;33m)\u001b[0m\u001b[1;33m\u001b[0m\u001b[1;33m\u001b[0m\u001b[0m\n\u001b[1;32m--> 856\u001b[1;33m         \u001b[0mself\u001b[0m\u001b[1;33m.\u001b[0m\u001b[0m_batch_setitems\u001b[0m\u001b[1;33m(\u001b[0m\u001b[0mobj\u001b[0m\u001b[1;33m.\u001b[0m\u001b[0mitems\u001b[0m\u001b[1;33m(\u001b[0m\u001b[1;33m)\u001b[0m\u001b[1;33m)\u001b[0m\u001b[1;33m\u001b[0m\u001b[1;33m\u001b[0m\u001b[0m\n\u001b[0m\u001b[0;32m    857\u001b[0m \u001b[1;33m\u001b[0m\u001b[0m\n\u001b[0;32m    858\u001b[0m     \u001b[0mdispatch\u001b[0m\u001b[1;33m[\u001b[0m\u001b[0mdict\u001b[0m\u001b[1;33m]\u001b[0m \u001b[1;33m=\u001b[0m \u001b[0msave_dict\u001b[0m\u001b[1;33m\u001b[0m\u001b[1;33m\u001b[0m\u001b[0m\n",
      "\u001b[1;32mH:\\Anaconda3\\lib\\pickle.py\u001b[0m in \u001b[0;36m_batch_setitems\u001b[1;34m(self, items)\u001b[0m\n\u001b[0;32m    880\u001b[0m                 \u001b[1;32mfor\u001b[0m \u001b[0mk\u001b[0m\u001b[1;33m,\u001b[0m \u001b[0mv\u001b[0m \u001b[1;32min\u001b[0m \u001b[0mtmp\u001b[0m\u001b[1;33m:\u001b[0m\u001b[1;33m\u001b[0m\u001b[1;33m\u001b[0m\u001b[0m\n\u001b[0;32m    881\u001b[0m                     \u001b[0msave\u001b[0m\u001b[1;33m(\u001b[0m\u001b[0mk\u001b[0m\u001b[1;33m)\u001b[0m\u001b[1;33m\u001b[0m\u001b[1;33m\u001b[0m\u001b[0m\n\u001b[1;32m--> 882\u001b[1;33m                     \u001b[0msave\u001b[0m\u001b[1;33m(\u001b[0m\u001b[0mv\u001b[0m\u001b[1;33m)\u001b[0m\u001b[1;33m\u001b[0m\u001b[1;33m\u001b[0m\u001b[0m\n\u001b[0m\u001b[0;32m    883\u001b[0m                 \u001b[0mwrite\u001b[0m\u001b[1;33m(\u001b[0m\u001b[0mSETITEMS\u001b[0m\u001b[1;33m)\u001b[0m\u001b[1;33m\u001b[0m\u001b[1;33m\u001b[0m\u001b[0m\n\u001b[0;32m    884\u001b[0m             \u001b[1;32melif\u001b[0m \u001b[0mn\u001b[0m\u001b[1;33m:\u001b[0m\u001b[1;33m\u001b[0m\u001b[1;33m\u001b[0m\u001b[0m\n",
      "\u001b[1;32mH:\\Anaconda3\\lib\\pickle.py\u001b[0m in \u001b[0;36msave\u001b[1;34m(self, obj, save_persistent_id)\u001b[0m\n\u001b[0;32m    547\u001b[0m \u001b[1;33m\u001b[0m\u001b[0m\n\u001b[0;32m    548\u001b[0m         \u001b[1;31m# Save the reduce() output and finally memoize the object\u001b[0m\u001b[1;33m\u001b[0m\u001b[1;33m\u001b[0m\u001b[1;33m\u001b[0m\u001b[0m\n\u001b[1;32m--> 549\u001b[1;33m         \u001b[0mself\u001b[0m\u001b[1;33m.\u001b[0m\u001b[0msave_reduce\u001b[0m\u001b[1;33m(\u001b[0m\u001b[0mobj\u001b[0m\u001b[1;33m=\u001b[0m\u001b[0mobj\u001b[0m\u001b[1;33m,\u001b[0m \u001b[1;33m*\u001b[0m\u001b[0mrv\u001b[0m\u001b[1;33m)\u001b[0m\u001b[1;33m\u001b[0m\u001b[1;33m\u001b[0m\u001b[0m\n\u001b[0m\u001b[0;32m    550\u001b[0m \u001b[1;33m\u001b[0m\u001b[0m\n\u001b[0;32m    551\u001b[0m     \u001b[1;32mdef\u001b[0m \u001b[0mpersistent_id\u001b[0m\u001b[1;33m(\u001b[0m\u001b[0mself\u001b[0m\u001b[1;33m,\u001b[0m \u001b[0mobj\u001b[0m\u001b[1;33m)\u001b[0m\u001b[1;33m:\u001b[0m\u001b[1;33m\u001b[0m\u001b[1;33m\u001b[0m\u001b[0m\n",
      "\u001b[1;32mH:\\Anaconda3\\lib\\pickle.py\u001b[0m in \u001b[0;36msave_reduce\u001b[1;34m(self, func, args, state, listitems, dictitems, obj)\u001b[0m\n\u001b[0;32m    660\u001b[0m \u001b[1;33m\u001b[0m\u001b[0m\n\u001b[0;32m    661\u001b[0m         \u001b[1;32mif\u001b[0m \u001b[0mstate\u001b[0m \u001b[1;32mis\u001b[0m \u001b[1;32mnot\u001b[0m \u001b[1;32mNone\u001b[0m\u001b[1;33m:\u001b[0m\u001b[1;33m\u001b[0m\u001b[1;33m\u001b[0m\u001b[0m\n\u001b[1;32m--> 662\u001b[1;33m             \u001b[0msave\u001b[0m\u001b[1;33m(\u001b[0m\u001b[0mstate\u001b[0m\u001b[1;33m)\u001b[0m\u001b[1;33m\u001b[0m\u001b[1;33m\u001b[0m\u001b[0m\n\u001b[0m\u001b[0;32m    663\u001b[0m             \u001b[0mwrite\u001b[0m\u001b[1;33m(\u001b[0m\u001b[0mBUILD\u001b[0m\u001b[1;33m)\u001b[0m\u001b[1;33m\u001b[0m\u001b[1;33m\u001b[0m\u001b[0m\n\u001b[0;32m    664\u001b[0m \u001b[1;33m\u001b[0m\u001b[0m\n",
      "\u001b[1;32mH:\\Anaconda3\\lib\\pickle.py\u001b[0m in \u001b[0;36msave\u001b[1;34m(self, obj, save_persistent_id)\u001b[0m\n\u001b[0;32m    502\u001b[0m         \u001b[0mf\u001b[0m \u001b[1;33m=\u001b[0m \u001b[0mself\u001b[0m\u001b[1;33m.\u001b[0m\u001b[0mdispatch\u001b[0m\u001b[1;33m.\u001b[0m\u001b[0mget\u001b[0m\u001b[1;33m(\u001b[0m\u001b[0mt\u001b[0m\u001b[1;33m)\u001b[0m\u001b[1;33m\u001b[0m\u001b[1;33m\u001b[0m\u001b[0m\n\u001b[0;32m    503\u001b[0m         \u001b[1;32mif\u001b[0m \u001b[0mf\u001b[0m \u001b[1;32mis\u001b[0m \u001b[1;32mnot\u001b[0m \u001b[1;32mNone\u001b[0m\u001b[1;33m:\u001b[0m\u001b[1;33m\u001b[0m\u001b[1;33m\u001b[0m\u001b[0m\n\u001b[1;32m--> 504\u001b[1;33m             \u001b[0mf\u001b[0m\u001b[1;33m(\u001b[0m\u001b[0mself\u001b[0m\u001b[1;33m,\u001b[0m \u001b[0mobj\u001b[0m\u001b[1;33m)\u001b[0m \u001b[1;31m# Call unbound method with explicit self\u001b[0m\u001b[1;33m\u001b[0m\u001b[1;33m\u001b[0m\u001b[0m\n\u001b[0m\u001b[0;32m    505\u001b[0m             \u001b[1;32mreturn\u001b[0m\u001b[1;33m\u001b[0m\u001b[1;33m\u001b[0m\u001b[0m\n\u001b[0;32m    506\u001b[0m \u001b[1;33m\u001b[0m\u001b[0m\n",
      "\u001b[1;32mH:\\Anaconda3\\lib\\site-packages\\dill\\_dill.py\u001b[0m in \u001b[0;36msave_module_dict\u001b[1;34m(pickler, obj)\u001b[0m\n\u001b[0;32m    908\u001b[0m             \u001b[1;31m# we only care about session the first pass thru\u001b[0m\u001b[1;33m\u001b[0m\u001b[1;33m\u001b[0m\u001b[1;33m\u001b[0m\u001b[0m\n\u001b[0;32m    909\u001b[0m             \u001b[0mpickler\u001b[0m\u001b[1;33m.\u001b[0m\u001b[0m_session\u001b[0m \u001b[1;33m=\u001b[0m \u001b[1;32mFalse\u001b[0m\u001b[1;33m\u001b[0m\u001b[1;33m\u001b[0m\u001b[0m\n\u001b[1;32m--> 910\u001b[1;33m         \u001b[0mStockPickler\u001b[0m\u001b[1;33m.\u001b[0m\u001b[0msave_dict\u001b[0m\u001b[1;33m(\u001b[0m\u001b[0mpickler\u001b[0m\u001b[1;33m,\u001b[0m \u001b[0mobj\u001b[0m\u001b[1;33m)\u001b[0m\u001b[1;33m\u001b[0m\u001b[1;33m\u001b[0m\u001b[0m\n\u001b[0m\u001b[0;32m    911\u001b[0m         \u001b[0mlog\u001b[0m\u001b[1;33m.\u001b[0m\u001b[0minfo\u001b[0m\u001b[1;33m(\u001b[0m\u001b[1;34m\"# D2\"\u001b[0m\u001b[1;33m)\u001b[0m\u001b[1;33m\u001b[0m\u001b[1;33m\u001b[0m\u001b[0m\n\u001b[0;32m    912\u001b[0m     \u001b[1;32mreturn\u001b[0m\u001b[1;33m\u001b[0m\u001b[1;33m\u001b[0m\u001b[0m\n",
      "\u001b[1;32mH:\\Anaconda3\\lib\\pickle.py\u001b[0m in \u001b[0;36msave_dict\u001b[1;34m(self, obj)\u001b[0m\n\u001b[0;32m    854\u001b[0m \u001b[1;33m\u001b[0m\u001b[0m\n\u001b[0;32m    855\u001b[0m         \u001b[0mself\u001b[0m\u001b[1;33m.\u001b[0m\u001b[0mmemoize\u001b[0m\u001b[1;33m(\u001b[0m\u001b[0mobj\u001b[0m\u001b[1;33m)\u001b[0m\u001b[1;33m\u001b[0m\u001b[1;33m\u001b[0m\u001b[0m\n\u001b[1;32m--> 856\u001b[1;33m         \u001b[0mself\u001b[0m\u001b[1;33m.\u001b[0m\u001b[0m_batch_setitems\u001b[0m\u001b[1;33m(\u001b[0m\u001b[0mobj\u001b[0m\u001b[1;33m.\u001b[0m\u001b[0mitems\u001b[0m\u001b[1;33m(\u001b[0m\u001b[1;33m)\u001b[0m\u001b[1;33m)\u001b[0m\u001b[1;33m\u001b[0m\u001b[1;33m\u001b[0m\u001b[0m\n\u001b[0m\u001b[0;32m    857\u001b[0m \u001b[1;33m\u001b[0m\u001b[0m\n\u001b[0;32m    858\u001b[0m     \u001b[0mdispatch\u001b[0m\u001b[1;33m[\u001b[0m\u001b[0mdict\u001b[0m\u001b[1;33m]\u001b[0m \u001b[1;33m=\u001b[0m \u001b[0msave_dict\u001b[0m\u001b[1;33m\u001b[0m\u001b[1;33m\u001b[0m\u001b[0m\n",
      "\u001b[1;32mH:\\Anaconda3\\lib\\pickle.py\u001b[0m in \u001b[0;36m_batch_setitems\u001b[1;34m(self, items)\u001b[0m\n\u001b[0;32m    880\u001b[0m                 \u001b[1;32mfor\u001b[0m \u001b[0mk\u001b[0m\u001b[1;33m,\u001b[0m \u001b[0mv\u001b[0m \u001b[1;32min\u001b[0m \u001b[0mtmp\u001b[0m\u001b[1;33m:\u001b[0m\u001b[1;33m\u001b[0m\u001b[1;33m\u001b[0m\u001b[0m\n\u001b[0;32m    881\u001b[0m                     \u001b[0msave\u001b[0m\u001b[1;33m(\u001b[0m\u001b[0mk\u001b[0m\u001b[1;33m)\u001b[0m\u001b[1;33m\u001b[0m\u001b[1;33m\u001b[0m\u001b[0m\n\u001b[1;32m--> 882\u001b[1;33m                     \u001b[0msave\u001b[0m\u001b[1;33m(\u001b[0m\u001b[0mv\u001b[0m\u001b[1;33m)\u001b[0m\u001b[1;33m\u001b[0m\u001b[1;33m\u001b[0m\u001b[0m\n\u001b[0m\u001b[0;32m    883\u001b[0m                 \u001b[0mwrite\u001b[0m\u001b[1;33m(\u001b[0m\u001b[0mSETITEMS\u001b[0m\u001b[1;33m)\u001b[0m\u001b[1;33m\u001b[0m\u001b[1;33m\u001b[0m\u001b[0m\n\u001b[0;32m    884\u001b[0m             \u001b[1;32melif\u001b[0m \u001b[0mn\u001b[0m\u001b[1;33m:\u001b[0m\u001b[1;33m\u001b[0m\u001b[1;33m\u001b[0m\u001b[0m\n",
      "\u001b[1;32mH:\\Anaconda3\\lib\\pickle.py\u001b[0m in \u001b[0;36msave\u001b[1;34m(self, obj, save_persistent_id)\u001b[0m\n\u001b[0;32m    547\u001b[0m \u001b[1;33m\u001b[0m\u001b[0m\n\u001b[0;32m    548\u001b[0m         \u001b[1;31m# Save the reduce() output and finally memoize the object\u001b[0m\u001b[1;33m\u001b[0m\u001b[1;33m\u001b[0m\u001b[1;33m\u001b[0m\u001b[0m\n\u001b[1;32m--> 549\u001b[1;33m         \u001b[0mself\u001b[0m\u001b[1;33m.\u001b[0m\u001b[0msave_reduce\u001b[0m\u001b[1;33m(\u001b[0m\u001b[0mobj\u001b[0m\u001b[1;33m=\u001b[0m\u001b[0mobj\u001b[0m\u001b[1;33m,\u001b[0m \u001b[1;33m*\u001b[0m\u001b[0mrv\u001b[0m\u001b[1;33m)\u001b[0m\u001b[1;33m\u001b[0m\u001b[1;33m\u001b[0m\u001b[0m\n\u001b[0m\u001b[0;32m    550\u001b[0m \u001b[1;33m\u001b[0m\u001b[0m\n\u001b[0;32m    551\u001b[0m     \u001b[1;32mdef\u001b[0m \u001b[0mpersistent_id\u001b[0m\u001b[1;33m(\u001b[0m\u001b[0mself\u001b[0m\u001b[1;33m,\u001b[0m \u001b[0mobj\u001b[0m\u001b[1;33m)\u001b[0m\u001b[1;33m:\u001b[0m\u001b[1;33m\u001b[0m\u001b[1;33m\u001b[0m\u001b[0m\n",
      "\u001b[1;32mH:\\Anaconda3\\lib\\pickle.py\u001b[0m in \u001b[0;36msave_reduce\u001b[1;34m(self, func, args, state, listitems, dictitems, obj)\u001b[0m\n\u001b[0;32m    660\u001b[0m \u001b[1;33m\u001b[0m\u001b[0m\n\u001b[0;32m    661\u001b[0m         \u001b[1;32mif\u001b[0m \u001b[0mstate\u001b[0m \u001b[1;32mis\u001b[0m \u001b[1;32mnot\u001b[0m \u001b[1;32mNone\u001b[0m\u001b[1;33m:\u001b[0m\u001b[1;33m\u001b[0m\u001b[1;33m\u001b[0m\u001b[0m\n\u001b[1;32m--> 662\u001b[1;33m             \u001b[0msave\u001b[0m\u001b[1;33m(\u001b[0m\u001b[0mstate\u001b[0m\u001b[1;33m)\u001b[0m\u001b[1;33m\u001b[0m\u001b[1;33m\u001b[0m\u001b[0m\n\u001b[0m\u001b[0;32m    663\u001b[0m             \u001b[0mwrite\u001b[0m\u001b[1;33m(\u001b[0m\u001b[0mBUILD\u001b[0m\u001b[1;33m)\u001b[0m\u001b[1;33m\u001b[0m\u001b[1;33m\u001b[0m\u001b[0m\n\u001b[0;32m    664\u001b[0m \u001b[1;33m\u001b[0m\u001b[0m\n",
      "\u001b[1;32mH:\\Anaconda3\\lib\\pickle.py\u001b[0m in \u001b[0;36msave\u001b[1;34m(self, obj, save_persistent_id)\u001b[0m\n\u001b[0;32m    502\u001b[0m         \u001b[0mf\u001b[0m \u001b[1;33m=\u001b[0m \u001b[0mself\u001b[0m\u001b[1;33m.\u001b[0m\u001b[0mdispatch\u001b[0m\u001b[1;33m.\u001b[0m\u001b[0mget\u001b[0m\u001b[1;33m(\u001b[0m\u001b[0mt\u001b[0m\u001b[1;33m)\u001b[0m\u001b[1;33m\u001b[0m\u001b[1;33m\u001b[0m\u001b[0m\n\u001b[0;32m    503\u001b[0m         \u001b[1;32mif\u001b[0m \u001b[0mf\u001b[0m \u001b[1;32mis\u001b[0m \u001b[1;32mnot\u001b[0m \u001b[1;32mNone\u001b[0m\u001b[1;33m:\u001b[0m\u001b[1;33m\u001b[0m\u001b[1;33m\u001b[0m\u001b[0m\n\u001b[1;32m--> 504\u001b[1;33m             \u001b[0mf\u001b[0m\u001b[1;33m(\u001b[0m\u001b[0mself\u001b[0m\u001b[1;33m,\u001b[0m \u001b[0mobj\u001b[0m\u001b[1;33m)\u001b[0m \u001b[1;31m# Call unbound method with explicit self\u001b[0m\u001b[1;33m\u001b[0m\u001b[1;33m\u001b[0m\u001b[0m\n\u001b[0m\u001b[0;32m    505\u001b[0m             \u001b[1;32mreturn\u001b[0m\u001b[1;33m\u001b[0m\u001b[1;33m\u001b[0m\u001b[0m\n\u001b[0;32m    506\u001b[0m \u001b[1;33m\u001b[0m\u001b[0m\n",
      "\u001b[1;32mH:\\Anaconda3\\lib\\site-packages\\dill\\_dill.py\u001b[0m in \u001b[0;36msave_module_dict\u001b[1;34m(pickler, obj)\u001b[0m\n\u001b[0;32m    908\u001b[0m             \u001b[1;31m# we only care about session the first pass thru\u001b[0m\u001b[1;33m\u001b[0m\u001b[1;33m\u001b[0m\u001b[1;33m\u001b[0m\u001b[0m\n\u001b[0;32m    909\u001b[0m             \u001b[0mpickler\u001b[0m\u001b[1;33m.\u001b[0m\u001b[0m_session\u001b[0m \u001b[1;33m=\u001b[0m \u001b[1;32mFalse\u001b[0m\u001b[1;33m\u001b[0m\u001b[1;33m\u001b[0m\u001b[0m\n\u001b[1;32m--> 910\u001b[1;33m         \u001b[0mStockPickler\u001b[0m\u001b[1;33m.\u001b[0m\u001b[0msave_dict\u001b[0m\u001b[1;33m(\u001b[0m\u001b[0mpickler\u001b[0m\u001b[1;33m,\u001b[0m \u001b[0mobj\u001b[0m\u001b[1;33m)\u001b[0m\u001b[1;33m\u001b[0m\u001b[1;33m\u001b[0m\u001b[0m\n\u001b[0m\u001b[0;32m    911\u001b[0m         \u001b[0mlog\u001b[0m\u001b[1;33m.\u001b[0m\u001b[0minfo\u001b[0m\u001b[1;33m(\u001b[0m\u001b[1;34m\"# D2\"\u001b[0m\u001b[1;33m)\u001b[0m\u001b[1;33m\u001b[0m\u001b[1;33m\u001b[0m\u001b[0m\n\u001b[0;32m    912\u001b[0m     \u001b[1;32mreturn\u001b[0m\u001b[1;33m\u001b[0m\u001b[1;33m\u001b[0m\u001b[0m\n",
      "\u001b[1;32mH:\\Anaconda3\\lib\\pickle.py\u001b[0m in \u001b[0;36msave_dict\u001b[1;34m(self, obj)\u001b[0m\n\u001b[0;32m    854\u001b[0m \u001b[1;33m\u001b[0m\u001b[0m\n\u001b[0;32m    855\u001b[0m         \u001b[0mself\u001b[0m\u001b[1;33m.\u001b[0m\u001b[0mmemoize\u001b[0m\u001b[1;33m(\u001b[0m\u001b[0mobj\u001b[0m\u001b[1;33m)\u001b[0m\u001b[1;33m\u001b[0m\u001b[1;33m\u001b[0m\u001b[0m\n\u001b[1;32m--> 856\u001b[1;33m         \u001b[0mself\u001b[0m\u001b[1;33m.\u001b[0m\u001b[0m_batch_setitems\u001b[0m\u001b[1;33m(\u001b[0m\u001b[0mobj\u001b[0m\u001b[1;33m.\u001b[0m\u001b[0mitems\u001b[0m\u001b[1;33m(\u001b[0m\u001b[1;33m)\u001b[0m\u001b[1;33m)\u001b[0m\u001b[1;33m\u001b[0m\u001b[1;33m\u001b[0m\u001b[0m\n\u001b[0m\u001b[0;32m    857\u001b[0m \u001b[1;33m\u001b[0m\u001b[0m\n\u001b[0;32m    858\u001b[0m     \u001b[0mdispatch\u001b[0m\u001b[1;33m[\u001b[0m\u001b[0mdict\u001b[0m\u001b[1;33m]\u001b[0m \u001b[1;33m=\u001b[0m \u001b[0msave_dict\u001b[0m\u001b[1;33m\u001b[0m\u001b[1;33m\u001b[0m\u001b[0m\n",
      "\u001b[1;32mH:\\Anaconda3\\lib\\pickle.py\u001b[0m in \u001b[0;36m_batch_setitems\u001b[1;34m(self, items)\u001b[0m\n\u001b[0;32m    880\u001b[0m                 \u001b[1;32mfor\u001b[0m \u001b[0mk\u001b[0m\u001b[1;33m,\u001b[0m \u001b[0mv\u001b[0m \u001b[1;32min\u001b[0m \u001b[0mtmp\u001b[0m\u001b[1;33m:\u001b[0m\u001b[1;33m\u001b[0m\u001b[1;33m\u001b[0m\u001b[0m\n\u001b[0;32m    881\u001b[0m                     \u001b[0msave\u001b[0m\u001b[1;33m(\u001b[0m\u001b[0mk\u001b[0m\u001b[1;33m)\u001b[0m\u001b[1;33m\u001b[0m\u001b[1;33m\u001b[0m\u001b[0m\n\u001b[1;32m--> 882\u001b[1;33m                     \u001b[0msave\u001b[0m\u001b[1;33m(\u001b[0m\u001b[0mv\u001b[0m\u001b[1;33m)\u001b[0m\u001b[1;33m\u001b[0m\u001b[1;33m\u001b[0m\u001b[0m\n\u001b[0m\u001b[0;32m    883\u001b[0m                 \u001b[0mwrite\u001b[0m\u001b[1;33m(\u001b[0m\u001b[0mSETITEMS\u001b[0m\u001b[1;33m)\u001b[0m\u001b[1;33m\u001b[0m\u001b[1;33m\u001b[0m\u001b[0m\n\u001b[0;32m    884\u001b[0m             \u001b[1;32melif\u001b[0m \u001b[0mn\u001b[0m\u001b[1;33m:\u001b[0m\u001b[1;33m\u001b[0m\u001b[1;33m\u001b[0m\u001b[0m\n",
      "\u001b[1;32mH:\\Anaconda3\\lib\\pickle.py\u001b[0m in \u001b[0;36msave\u001b[1;34m(self, obj, save_persistent_id)\u001b[0m\n\u001b[0;32m    502\u001b[0m         \u001b[0mf\u001b[0m \u001b[1;33m=\u001b[0m \u001b[0mself\u001b[0m\u001b[1;33m.\u001b[0m\u001b[0mdispatch\u001b[0m\u001b[1;33m.\u001b[0m\u001b[0mget\u001b[0m\u001b[1;33m(\u001b[0m\u001b[0mt\u001b[0m\u001b[1;33m)\u001b[0m\u001b[1;33m\u001b[0m\u001b[1;33m\u001b[0m\u001b[0m\n\u001b[0;32m    503\u001b[0m         \u001b[1;32mif\u001b[0m \u001b[0mf\u001b[0m \u001b[1;32mis\u001b[0m \u001b[1;32mnot\u001b[0m \u001b[1;32mNone\u001b[0m\u001b[1;33m:\u001b[0m\u001b[1;33m\u001b[0m\u001b[1;33m\u001b[0m\u001b[0m\n\u001b[1;32m--> 504\u001b[1;33m             \u001b[0mf\u001b[0m\u001b[1;33m(\u001b[0m\u001b[0mself\u001b[0m\u001b[1;33m,\u001b[0m \u001b[0mobj\u001b[0m\u001b[1;33m)\u001b[0m \u001b[1;31m# Call unbound method with explicit self\u001b[0m\u001b[1;33m\u001b[0m\u001b[1;33m\u001b[0m\u001b[0m\n\u001b[0m\u001b[0;32m    505\u001b[0m             \u001b[1;32mreturn\u001b[0m\u001b[1;33m\u001b[0m\u001b[1;33m\u001b[0m\u001b[0m\n\u001b[0;32m    506\u001b[0m \u001b[1;33m\u001b[0m\u001b[0m\n",
      "\u001b[1;32mH:\\Anaconda3\\lib\\site-packages\\dill\\_dill.py\u001b[0m in \u001b[0;36msave_module_dict\u001b[1;34m(pickler, obj)\u001b[0m\n\u001b[0;32m    908\u001b[0m             \u001b[1;31m# we only care about session the first pass thru\u001b[0m\u001b[1;33m\u001b[0m\u001b[1;33m\u001b[0m\u001b[1;33m\u001b[0m\u001b[0m\n\u001b[0;32m    909\u001b[0m             \u001b[0mpickler\u001b[0m\u001b[1;33m.\u001b[0m\u001b[0m_session\u001b[0m \u001b[1;33m=\u001b[0m \u001b[1;32mFalse\u001b[0m\u001b[1;33m\u001b[0m\u001b[1;33m\u001b[0m\u001b[0m\n\u001b[1;32m--> 910\u001b[1;33m         \u001b[0mStockPickler\u001b[0m\u001b[1;33m.\u001b[0m\u001b[0msave_dict\u001b[0m\u001b[1;33m(\u001b[0m\u001b[0mpickler\u001b[0m\u001b[1;33m,\u001b[0m \u001b[0mobj\u001b[0m\u001b[1;33m)\u001b[0m\u001b[1;33m\u001b[0m\u001b[1;33m\u001b[0m\u001b[0m\n\u001b[0m\u001b[0;32m    911\u001b[0m         \u001b[0mlog\u001b[0m\u001b[1;33m.\u001b[0m\u001b[0minfo\u001b[0m\u001b[1;33m(\u001b[0m\u001b[1;34m\"# D2\"\u001b[0m\u001b[1;33m)\u001b[0m\u001b[1;33m\u001b[0m\u001b[1;33m\u001b[0m\u001b[0m\n\u001b[0;32m    912\u001b[0m     \u001b[1;32mreturn\u001b[0m\u001b[1;33m\u001b[0m\u001b[1;33m\u001b[0m\u001b[0m\n",
      "\u001b[1;32mH:\\Anaconda3\\lib\\pickle.py\u001b[0m in \u001b[0;36msave_dict\u001b[1;34m(self, obj)\u001b[0m\n\u001b[0;32m    854\u001b[0m \u001b[1;33m\u001b[0m\u001b[0m\n\u001b[0;32m    855\u001b[0m         \u001b[0mself\u001b[0m\u001b[1;33m.\u001b[0m\u001b[0mmemoize\u001b[0m\u001b[1;33m(\u001b[0m\u001b[0mobj\u001b[0m\u001b[1;33m)\u001b[0m\u001b[1;33m\u001b[0m\u001b[1;33m\u001b[0m\u001b[0m\n\u001b[1;32m--> 856\u001b[1;33m         \u001b[0mself\u001b[0m\u001b[1;33m.\u001b[0m\u001b[0m_batch_setitems\u001b[0m\u001b[1;33m(\u001b[0m\u001b[0mobj\u001b[0m\u001b[1;33m.\u001b[0m\u001b[0mitems\u001b[0m\u001b[1;33m(\u001b[0m\u001b[1;33m)\u001b[0m\u001b[1;33m)\u001b[0m\u001b[1;33m\u001b[0m\u001b[1;33m\u001b[0m\u001b[0m\n\u001b[0m\u001b[0;32m    857\u001b[0m \u001b[1;33m\u001b[0m\u001b[0m\n\u001b[0;32m    858\u001b[0m     \u001b[0mdispatch\u001b[0m\u001b[1;33m[\u001b[0m\u001b[0mdict\u001b[0m\u001b[1;33m]\u001b[0m \u001b[1;33m=\u001b[0m \u001b[0msave_dict\u001b[0m\u001b[1;33m\u001b[0m\u001b[1;33m\u001b[0m\u001b[0m\n",
      "\u001b[1;32mH:\\Anaconda3\\lib\\pickle.py\u001b[0m in \u001b[0;36m_batch_setitems\u001b[1;34m(self, items)\u001b[0m\n\u001b[0;32m    880\u001b[0m                 \u001b[1;32mfor\u001b[0m \u001b[0mk\u001b[0m\u001b[1;33m,\u001b[0m \u001b[0mv\u001b[0m \u001b[1;32min\u001b[0m \u001b[0mtmp\u001b[0m\u001b[1;33m:\u001b[0m\u001b[1;33m\u001b[0m\u001b[1;33m\u001b[0m\u001b[0m\n\u001b[0;32m    881\u001b[0m                     \u001b[0msave\u001b[0m\u001b[1;33m(\u001b[0m\u001b[0mk\u001b[0m\u001b[1;33m)\u001b[0m\u001b[1;33m\u001b[0m\u001b[1;33m\u001b[0m\u001b[0m\n\u001b[1;32m--> 882\u001b[1;33m                     \u001b[0msave\u001b[0m\u001b[1;33m(\u001b[0m\u001b[0mv\u001b[0m\u001b[1;33m)\u001b[0m\u001b[1;33m\u001b[0m\u001b[1;33m\u001b[0m\u001b[0m\n\u001b[0m\u001b[0;32m    883\u001b[0m                 \u001b[0mwrite\u001b[0m\u001b[1;33m(\u001b[0m\u001b[0mSETITEMS\u001b[0m\u001b[1;33m)\u001b[0m\u001b[1;33m\u001b[0m\u001b[1;33m\u001b[0m\u001b[0m\n\u001b[0;32m    884\u001b[0m             \u001b[1;32melif\u001b[0m \u001b[0mn\u001b[0m\u001b[1;33m:\u001b[0m\u001b[1;33m\u001b[0m\u001b[1;33m\u001b[0m\u001b[0m\n",
      "\u001b[1;32mH:\\Anaconda3\\lib\\pickle.py\u001b[0m in \u001b[0;36msave\u001b[1;34m(self, obj, save_persistent_id)\u001b[0m\n\u001b[0;32m    547\u001b[0m \u001b[1;33m\u001b[0m\u001b[0m\n\u001b[0;32m    548\u001b[0m         \u001b[1;31m# Save the reduce() output and finally memoize the object\u001b[0m\u001b[1;33m\u001b[0m\u001b[1;33m\u001b[0m\u001b[1;33m\u001b[0m\u001b[0m\n\u001b[1;32m--> 549\u001b[1;33m         \u001b[0mself\u001b[0m\u001b[1;33m.\u001b[0m\u001b[0msave_reduce\u001b[0m\u001b[1;33m(\u001b[0m\u001b[0mobj\u001b[0m\u001b[1;33m=\u001b[0m\u001b[0mobj\u001b[0m\u001b[1;33m,\u001b[0m \u001b[1;33m*\u001b[0m\u001b[0mrv\u001b[0m\u001b[1;33m)\u001b[0m\u001b[1;33m\u001b[0m\u001b[1;33m\u001b[0m\u001b[0m\n\u001b[0m\u001b[0;32m    550\u001b[0m \u001b[1;33m\u001b[0m\u001b[0m\n\u001b[0;32m    551\u001b[0m     \u001b[1;32mdef\u001b[0m \u001b[0mpersistent_id\u001b[0m\u001b[1;33m(\u001b[0m\u001b[0mself\u001b[0m\u001b[1;33m,\u001b[0m \u001b[0mobj\u001b[0m\u001b[1;33m)\u001b[0m\u001b[1;33m:\u001b[0m\u001b[1;33m\u001b[0m\u001b[1;33m\u001b[0m\u001b[0m\n",
      "\u001b[1;32mH:\\Anaconda3\\lib\\pickle.py\u001b[0m in \u001b[0;36msave_reduce\u001b[1;34m(self, func, args, state, listitems, dictitems, obj)\u001b[0m\n\u001b[0;32m    660\u001b[0m \u001b[1;33m\u001b[0m\u001b[0m\n\u001b[0;32m    661\u001b[0m         \u001b[1;32mif\u001b[0m \u001b[0mstate\u001b[0m \u001b[1;32mis\u001b[0m \u001b[1;32mnot\u001b[0m \u001b[1;32mNone\u001b[0m\u001b[1;33m:\u001b[0m\u001b[1;33m\u001b[0m\u001b[1;33m\u001b[0m\u001b[0m\n\u001b[1;32m--> 662\u001b[1;33m             \u001b[0msave\u001b[0m\u001b[1;33m(\u001b[0m\u001b[0mstate\u001b[0m\u001b[1;33m)\u001b[0m\u001b[1;33m\u001b[0m\u001b[1;33m\u001b[0m\u001b[0m\n\u001b[0m\u001b[0;32m    663\u001b[0m             \u001b[0mwrite\u001b[0m\u001b[1;33m(\u001b[0m\u001b[0mBUILD\u001b[0m\u001b[1;33m)\u001b[0m\u001b[1;33m\u001b[0m\u001b[1;33m\u001b[0m\u001b[0m\n\u001b[0;32m    664\u001b[0m \u001b[1;33m\u001b[0m\u001b[0m\n",
      "\u001b[1;32mH:\\Anaconda3\\lib\\pickle.py\u001b[0m in \u001b[0;36msave\u001b[1;34m(self, obj, save_persistent_id)\u001b[0m\n\u001b[0;32m    502\u001b[0m         \u001b[0mf\u001b[0m \u001b[1;33m=\u001b[0m \u001b[0mself\u001b[0m\u001b[1;33m.\u001b[0m\u001b[0mdispatch\u001b[0m\u001b[1;33m.\u001b[0m\u001b[0mget\u001b[0m\u001b[1;33m(\u001b[0m\u001b[0mt\u001b[0m\u001b[1;33m)\u001b[0m\u001b[1;33m\u001b[0m\u001b[1;33m\u001b[0m\u001b[0m\n\u001b[0;32m    503\u001b[0m         \u001b[1;32mif\u001b[0m \u001b[0mf\u001b[0m \u001b[1;32mis\u001b[0m \u001b[1;32mnot\u001b[0m \u001b[1;32mNone\u001b[0m\u001b[1;33m:\u001b[0m\u001b[1;33m\u001b[0m\u001b[1;33m\u001b[0m\u001b[0m\n\u001b[1;32m--> 504\u001b[1;33m             \u001b[0mf\u001b[0m\u001b[1;33m(\u001b[0m\u001b[0mself\u001b[0m\u001b[1;33m,\u001b[0m \u001b[0mobj\u001b[0m\u001b[1;33m)\u001b[0m \u001b[1;31m# Call unbound method with explicit self\u001b[0m\u001b[1;33m\u001b[0m\u001b[1;33m\u001b[0m\u001b[0m\n\u001b[0m\u001b[0;32m    505\u001b[0m             \u001b[1;32mreturn\u001b[0m\u001b[1;33m\u001b[0m\u001b[1;33m\u001b[0m\u001b[0m\n\u001b[0;32m    506\u001b[0m \u001b[1;33m\u001b[0m\u001b[0m\n",
      "\u001b[1;32mH:\\Anaconda3\\lib\\site-packages\\dill\\_dill.py\u001b[0m in \u001b[0;36msave_module_dict\u001b[1;34m(pickler, obj)\u001b[0m\n\u001b[0;32m    908\u001b[0m             \u001b[1;31m# we only care about session the first pass thru\u001b[0m\u001b[1;33m\u001b[0m\u001b[1;33m\u001b[0m\u001b[1;33m\u001b[0m\u001b[0m\n\u001b[0;32m    909\u001b[0m             \u001b[0mpickler\u001b[0m\u001b[1;33m.\u001b[0m\u001b[0m_session\u001b[0m \u001b[1;33m=\u001b[0m \u001b[1;32mFalse\u001b[0m\u001b[1;33m\u001b[0m\u001b[1;33m\u001b[0m\u001b[0m\n\u001b[1;32m--> 910\u001b[1;33m         \u001b[0mStockPickler\u001b[0m\u001b[1;33m.\u001b[0m\u001b[0msave_dict\u001b[0m\u001b[1;33m(\u001b[0m\u001b[0mpickler\u001b[0m\u001b[1;33m,\u001b[0m \u001b[0mobj\u001b[0m\u001b[1;33m)\u001b[0m\u001b[1;33m\u001b[0m\u001b[1;33m\u001b[0m\u001b[0m\n\u001b[0m\u001b[0;32m    911\u001b[0m         \u001b[0mlog\u001b[0m\u001b[1;33m.\u001b[0m\u001b[0minfo\u001b[0m\u001b[1;33m(\u001b[0m\u001b[1;34m\"# D2\"\u001b[0m\u001b[1;33m)\u001b[0m\u001b[1;33m\u001b[0m\u001b[1;33m\u001b[0m\u001b[0m\n\u001b[0;32m    912\u001b[0m     \u001b[1;32mreturn\u001b[0m\u001b[1;33m\u001b[0m\u001b[1;33m\u001b[0m\u001b[0m\n",
      "\u001b[1;32mH:\\Anaconda3\\lib\\pickle.py\u001b[0m in \u001b[0;36msave_dict\u001b[1;34m(self, obj)\u001b[0m\n\u001b[0;32m    854\u001b[0m \u001b[1;33m\u001b[0m\u001b[0m\n\u001b[0;32m    855\u001b[0m         \u001b[0mself\u001b[0m\u001b[1;33m.\u001b[0m\u001b[0mmemoize\u001b[0m\u001b[1;33m(\u001b[0m\u001b[0mobj\u001b[0m\u001b[1;33m)\u001b[0m\u001b[1;33m\u001b[0m\u001b[1;33m\u001b[0m\u001b[0m\n\u001b[1;32m--> 856\u001b[1;33m         \u001b[0mself\u001b[0m\u001b[1;33m.\u001b[0m\u001b[0m_batch_setitems\u001b[0m\u001b[1;33m(\u001b[0m\u001b[0mobj\u001b[0m\u001b[1;33m.\u001b[0m\u001b[0mitems\u001b[0m\u001b[1;33m(\u001b[0m\u001b[1;33m)\u001b[0m\u001b[1;33m)\u001b[0m\u001b[1;33m\u001b[0m\u001b[1;33m\u001b[0m\u001b[0m\n\u001b[0m\u001b[0;32m    857\u001b[0m \u001b[1;33m\u001b[0m\u001b[0m\n\u001b[0;32m    858\u001b[0m     \u001b[0mdispatch\u001b[0m\u001b[1;33m[\u001b[0m\u001b[0mdict\u001b[0m\u001b[1;33m]\u001b[0m \u001b[1;33m=\u001b[0m \u001b[0msave_dict\u001b[0m\u001b[1;33m\u001b[0m\u001b[1;33m\u001b[0m\u001b[0m\n",
      "\u001b[1;32mH:\\Anaconda3\\lib\\pickle.py\u001b[0m in \u001b[0;36m_batch_setitems\u001b[1;34m(self, items)\u001b[0m\n\u001b[0;32m    880\u001b[0m                 \u001b[1;32mfor\u001b[0m \u001b[0mk\u001b[0m\u001b[1;33m,\u001b[0m \u001b[0mv\u001b[0m \u001b[1;32min\u001b[0m \u001b[0mtmp\u001b[0m\u001b[1;33m:\u001b[0m\u001b[1;33m\u001b[0m\u001b[1;33m\u001b[0m\u001b[0m\n\u001b[0;32m    881\u001b[0m                     \u001b[0msave\u001b[0m\u001b[1;33m(\u001b[0m\u001b[0mk\u001b[0m\u001b[1;33m)\u001b[0m\u001b[1;33m\u001b[0m\u001b[1;33m\u001b[0m\u001b[0m\n\u001b[1;32m--> 882\u001b[1;33m                     \u001b[0msave\u001b[0m\u001b[1;33m(\u001b[0m\u001b[0mv\u001b[0m\u001b[1;33m)\u001b[0m\u001b[1;33m\u001b[0m\u001b[1;33m\u001b[0m\u001b[0m\n\u001b[0m\u001b[0;32m    883\u001b[0m                 \u001b[0mwrite\u001b[0m\u001b[1;33m(\u001b[0m\u001b[0mSETITEMS\u001b[0m\u001b[1;33m)\u001b[0m\u001b[1;33m\u001b[0m\u001b[1;33m\u001b[0m\u001b[0m\n\u001b[0;32m    884\u001b[0m             \u001b[1;32melif\u001b[0m \u001b[0mn\u001b[0m\u001b[1;33m:\u001b[0m\u001b[1;33m\u001b[0m\u001b[1;33m\u001b[0m\u001b[0m\n",
      "\u001b[1;32mH:\\Anaconda3\\lib\\pickle.py\u001b[0m in \u001b[0;36msave\u001b[1;34m(self, obj, save_persistent_id)\u001b[0m\n\u001b[0;32m    522\u001b[0m             \u001b[0mreduce\u001b[0m \u001b[1;33m=\u001b[0m \u001b[0mgetattr\u001b[0m\u001b[1;33m(\u001b[0m\u001b[0mobj\u001b[0m\u001b[1;33m,\u001b[0m \u001b[1;34m\"__reduce_ex__\"\u001b[0m\u001b[1;33m,\u001b[0m \u001b[1;32mNone\u001b[0m\u001b[1;33m)\u001b[0m\u001b[1;33m\u001b[0m\u001b[1;33m\u001b[0m\u001b[0m\n\u001b[0;32m    523\u001b[0m             \u001b[1;32mif\u001b[0m \u001b[0mreduce\u001b[0m \u001b[1;32mis\u001b[0m \u001b[1;32mnot\u001b[0m \u001b[1;32mNone\u001b[0m\u001b[1;33m:\u001b[0m\u001b[1;33m\u001b[0m\u001b[1;33m\u001b[0m\u001b[0m\n\u001b[1;32m--> 524\u001b[1;33m                 \u001b[0mrv\u001b[0m \u001b[1;33m=\u001b[0m \u001b[0mreduce\u001b[0m\u001b[1;33m(\u001b[0m\u001b[0mself\u001b[0m\u001b[1;33m.\u001b[0m\u001b[0mproto\u001b[0m\u001b[1;33m)\u001b[0m\u001b[1;33m\u001b[0m\u001b[1;33m\u001b[0m\u001b[0m\n\u001b[0m\u001b[0;32m    525\u001b[0m             \u001b[1;32melse\u001b[0m\u001b[1;33m:\u001b[0m\u001b[1;33m\u001b[0m\u001b[1;33m\u001b[0m\u001b[0m\n\u001b[0;32m    526\u001b[0m                 \u001b[0mreduce\u001b[0m \u001b[1;33m=\u001b[0m \u001b[0mgetattr\u001b[0m\u001b[1;33m(\u001b[0m\u001b[0mobj\u001b[0m\u001b[1;33m,\u001b[0m \u001b[1;34m\"__reduce__\"\u001b[0m\u001b[1;33m,\u001b[0m \u001b[1;32mNone\u001b[0m\u001b[1;33m)\u001b[0m\u001b[1;33m\u001b[0m\u001b[1;33m\u001b[0m\u001b[0m\n",
      "\u001b[1;31mTypeError\u001b[0m: can't pickle SwigPyObject objects"
     ]
    }
   ],
   "source": [
    "import copyreg, copy, pickle\n",
    "import dill\n",
    "filename= 'H:\\\\pythonchengx_u\\\\Tianchiantai\\\\dianshangtuijian\\\\SVDglobalsave.pkl'\n",
    "dill.dump_session(filename)"
   ]
  },
  {
   "cell_type": "code",
   "execution_count": null,
   "metadata": {},
   "outputs": [],
   "source": []
  }
 ],
 "metadata": {
  "kernelspec": {
   "display_name": "Python 3",
   "language": "python",
   "name": "python3"
  },
  "language_info": {
   "codemirror_mode": {
    "name": "ipython",
    "version": 3
   },
   "file_extension": ".py",
   "mimetype": "text/x-python",
   "name": "python",
   "nbconvert_exporter": "python",
   "pygments_lexer": "ipython3",
   "version": "3.7.3"
  },
  "pycharm": {
   "stem_cell": {
    "cell_type": "raw",
    "source": [],
    "metadata": {
     "collapsed": false
    }
   }
  }
 },
 "nbformat": 4,
 "nbformat_minor": 1
}
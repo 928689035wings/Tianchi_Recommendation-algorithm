{
 "cells": [
  {
   "cell_type": "code",
   "execution_count": 2,
   "metadata": {
    "pycharm": {
     "is_executing": false
    }
   },
   "outputs": [],
   "source": [
    "import pandas as pd \n",
    "import numpy as np \n",
    "import matplotlib.pyplot as plt \n",
    "import seaborn as sns \n",
    "import gc\n",
    "%matplotlib inline\n",
    "# 禁用科学计数法\n",
    "pd.set_option('display.float_format',lambda x : '%.2f' % x)"
   ]
  },
  {
   "cell_type": "markdown",
   "metadata": {},
   "source": [
    "## 读取数据"
   ]
  },
  {
   "cell_type": "code",
   "execution_count": 3,
   "metadata": {
    "pycharm": {
     "is_executing": false
    }
   },
   "outputs": [],
   "source": [
    "item = pd.read_csv('H:/pythonchengx_u/Tianchiantai/dianshangtuijian//Antai_AE_round1_item_attr_20190626.csv')\n",
    "train = pd.read_csv('H:/pythonchengx_u/Tianchiantai/dianshangtuijian//Antai_AE_round1_train_20190626.csv')\n",
    "test = pd.read_csv('H:/pythonchengx_u/Tianchiantai/dianshangtuijian//Antai_AE_round1_test_20190626.csv')\n",
    "submit = pd.read_csv('H:/pythonchengx_u/Tianchiantai/dianshangtuijian//Antai_AE_round1_submit_20190715.csv')"
   ]
  },
  {
   "cell_type": "markdown",
   "metadata": {},
   "source": [
    "### 数据预处理\n",
    "* 合并train和test文件\n",
    "* 提取日期年月日等信息\n",
    "* 关联商品价格、品类、店铺\n",
    "* 转化每列数据类型为可存储的最小值，减少内存消耗\n",
    "* 保存为hdf5格式文件，加速读取"
   ]
  },
  {
   "cell_type": "code",
   "execution_count": 4,
   "metadata": {
    "pycharm": {
     "is_executing": false
    }
   },
   "outputs": [],
   "source": [
    "df = pd.concat([train.assign(is_train=1), test.assign(is_train=0)])\n",
    "\n",
    "df['create_order_time'] = pd.to_datetime(df['create_order_time'])\n",
    "df['date'] = df['create_order_time'].dt.date\n",
    "df['day'] = df['create_order_time'].dt.day\n",
    "df['hour'] = df['create_order_time'].dt.hour\n",
    "\n",
    "df = pd.merge(df, item, how='left', on='item_id')"
   ]
  },
  {
   "cell_type": "code",
   "execution_count": 5,
   "metadata": {
    "collapsed": true,
    "pycharm": {
     "is_executing": false
    }
   },
   "outputs": [
    {
     "name": "stdout",
     "text": [
      "After memory usage of properties dataframe is : 658.8679056167603  MB\n"
     ],
     "output_type": "stream"
    }
   ],
   "source": [
    "\n",
    "dtype_dict = {'buyer_admin_id' : 'int32', \n",
    "              'item_id' : 'int32', \n",
    "              'store_id' : 'int32',\n",
    "              'irank' : 'int16',\n",
    "              'item_price' : 'int16',\n",
    "              'cate_id' : 'int16',\n",
    "              'is_train' : 'int8',\n",
    "              'day' : 'int8',\n",
    "              'hour' : 'int8',\n",
    "             }\n",
    "\n",
    "df = df.fillna(0).astype(dtype_dict)\n",
    "memory = df.memory_usage().sum() / 1024**2 \n",
    "print('After memory usage of properties dataframe is :', memory, \" MB\")"
   ]
  },
  {
   "cell_type": "code",
   "execution_count": null,
   "metadata": {
    "collapsed": true,
    "pycharm": {
     "is_executing": false
    }
   },
   "outputs": [],
   "source": [
    "for col in ['store_id', 'item_price', 'cate_id']:\n",
    "    df[col] = df[col].fillna(0).astype(np.int32).replace(0, np.nan)\n",
    "df.to_hdf('I:/pythonchengx_u/Tianchiantai/dianshangtuijian/train_test1.h5', '1.0')\n",
    "# df.to_hdf('../data/train_test.h5', '1.0')\n",
    "print(\"1\")"
   ]
  },
  {
   "cell_type": "code",
   "execution_count": null,
   "metadata": {
    "collapsed": true,
    "pycharm": {
     "is_executing": false
    }
   },
   "outputs": [],
   "source": [
    "%%time\n",
    "df = pd.read_hdf('I:/pythonchengx_u/Tianchiantai/dianshangtuijian/train_test1.h5', '1.0')"
   ]
  },
  {
   "cell_type": "code",
   "execution_count": null,
   "metadata": {
    "collapsed": true,
    "pycharm": {
     "is_executing": false
    }
   },
   "outputs": [],
   "source": []
  },
  {
   "cell_type": "markdown",
   "metadata": {},
   "source": [
    "经过前处理后:\n",
    "* 文件内存占用从1200M减少至600M\n",
    "* 采用hdf5格式存储，读取时间从15秒减少到仅需5秒"
   ]
  },
  {
   "cell_type": "markdown",
   "metadata": {},
   "source": [
    "# Overview: 数据内容"
   ]
  },
  {
   "cell_type": "code",
   "execution_count": null,
   "metadata": {
    "collapsed": true,
    "pycharm": {
     "is_executing": false
    }
   },
   "outputs": [],
   "source": [
    "df.head()"
   ]
  },
  {
   "cell_type": "code",
   "execution_count": null,
   "metadata": {
    "collapsed": true,
    "pycharm": {
     "is_executing": false
    }
   },
   "outputs": [],
   "source": [
    "# Null 空值统计\n",
    "for pdf in [df, item]:\n",
    "    for col in pdf.columns:\n",
    "        print(col, pdf[col].isnull().sum())"
   ]
  },
  {
   "cell_type": "code",
   "execution_count": null,
   "metadata": {
    "collapsed": true,
    "pycharm": {
     "is_executing": false
    }
   },
   "outputs": [],
   "source": [
    "df.describe()"
   ]
  },
  {
   "cell_type": "code",
   "execution_count": null,
   "metadata": {
    "pycharm": {
     "is_executing": false
    }
   },
   "outputs": [],
   "source": [
    "item.describe()"
   ]
  },
  {
   "cell_type": "markdown",
   "metadata": {},
   "source": [
    "数据内容：\n",
    "* 用户、商品、店铺、品类乃至商品价格都是从1开始用整数编号\n",
    "* 订单日期格式为：YYYY-mm-dd HH:mm:ss\n",
    "* 源数据中都木有空值，但是由于某些商品，不在商品表，因此缺少了一些价格、品类信息。"
   ]
  },
  {
   "cell_type": "markdown",
   "metadata": {},
   "source": [
    "# 数据探查"
   ]
  },
  {
   "cell_type": "markdown",
   "metadata": {},
   "source": [
    "下一步，我们依次对每个文件的特征进行基础统计和可视化处理，这是对数据进一步理解的基础。\n",
    "\n",
    "[]~(￣▽￣)~* Let's do it."
   ]
  },
  {
   "cell_type": "markdown",
   "metadata": {},
   "source": [
    "## 训练集与测试集"
   ]
  },
  {
   "cell_type": "code",
   "execution_count": null,
   "metadata": {
    "pycharm": {
     "is_executing": false
    }
   },
   "outputs": [],
   "source": [
    "train = df['is_train']==1\n",
    "test = df['is_train']==0"
   ]
  },
  {
   "cell_type": "code",
   "execution_count": null,
   "metadata": {
    "collapsed": true,
    "pycharm": {
     "is_executing": false
    }
   },
   "outputs": [],
   "source": [
    "train_count = len(df[train])\n",
    "print('训练集样本量是',train_count)\n",
    "test_count = len(df[test])\n",
    "print('测试集样本量是',test_count)\n",
    "print('样本比例为：', train_count/test_count)"
   ]
  },
  {
   "cell_type": "markdown",
   "metadata": {},
   "source": [
    "### buyer_country_id 国家编号"
   ]
  },
  {
   "cell_type": "code",
   "execution_count": null,
   "metadata": {
    "pycharm": {
     "is_executing": false
    }
   },
   "outputs": [],
   "source": [
    "def groupby_cnt_ratio(df, col):\n",
    "    if isinstance(col, str):\n",
    "        col = [col]\n",
    "    key = ['is_train', 'buyer_country_id'] + col\n",
    "    \n",
    "    # groupby function\n",
    "    cnt_stat = df.groupby(key).size().to_frame('count')\n",
    "    ratio_stat = (cnt_stat / cnt_stat.groupby(['is_train', 'buyer_country_id']).sum()).rename(columns={'count':'count_ratio'})\n",
    "    return pd.merge(cnt_stat, ratio_stat, on=key, how='outer').sort_values(by=['count'], ascending=False)\n"
   ]
  },
  {
   "cell_type": "code",
   "execution_count": null,
   "metadata": {
    "collapsed": true,
    "pycharm": {
     "is_executing": false
    }
   },
   "outputs": [],
   "source": [
    "groupby_cnt_ratio(df, [])"
   ]
  },
  {
   "cell_type": "code",
   "execution_count": null,
   "metadata": {
    "collapsed": true,
    "pycharm": {
     "is_executing": false
    }
   },
   "outputs": [],
   "source": [
    "plt.figure(figsize=(8,6))\n",
    "sns.countplot(x='is_train', data = df, palette=['red', 'blue'], hue='buyer_country_id', order=[1, 0])\n",
    "plt.xticks(np.arange(2), ('训练集', '测试集'))\n",
    "plt.xlabel('数据文件')\n",
    "plt.title('国家编号');"
   ]
  },
  {
   "cell_type": "markdown",
   "metadata": {},
   "source": [
    "buyer_country_id 国家编号\n",
    "\n",
    "> 本次比赛给出若干日内来自成熟国家的部分用户的行为数据，以及来自待成熟国家的A部分用户的行为数据，以及待成熟国家的B部分用户的行为数据去除每个用户的最后一条购买数据，让参赛人预测B部分用户的最后一条行为数据。\n",
    "\n",
    "* 训练集中有2个国家数据，xx国家样本数10635642，占比83%，yy国家样本数2232867条，仅占17%\n",
    "* 预测集中有yy国家的166832数据, 训练集中yy国样本数量是测试集中的13倍，如赛题目的所言，期望通过大量成熟国家来预测少量带成熟国家的用户购买行为"
   ]
  },
  {
   "cell_type": "markdown",
   "metadata": {},
   "source": [
    "### buyer_admin_id 用户编号"
   ]
  },
  {
   "cell_type": "code",
   "execution_count": null,
   "metadata": {
    "collapsed": true,
    "pycharm": {
     "is_executing": false
    }
   },
   "outputs": [],
   "source": [
    "print('训练集中用户数量',len(df[train]['buyer_admin_id'].unique()))\n",
    "print('测试集中用户数量',len(df[test]['buyer_admin_id'].unique()))"
   ]
  },
  {
   "cell_type": "code",
   "execution_count": null,
   "metadata": {
    "pycharm": {
     "is_executing": false
    }
   },
   "outputs": [],
   "source": [
    "union = list(set(df[train]['buyer_admin_id'].unique()).intersection(set(df[test]['buyer_admin_id'].unique())))\n",
    "print('同时在训练集测试集出现的有6位用户，id如下：',union)"
   ]
  },
  {
   "cell_type": "code",
   "execution_count": null,
   "metadata": {
    "pycharm": {
     "is_executing": false
    }
   },
   "outputs": [],
   "source": [
    "df[train][df['buyer_admin_id'].isin(union)].sort_values(by=['buyer_admin_id','irank']).head(10)"
   ]
  },
  {
   "cell_type": "code",
   "execution_count": null,
   "metadata": {
    "pycharm": {
     "is_executing": false
    }
   },
   "outputs": [],
   "source": [
    "df[test][df['buyer_admin_id'].isin(union)].sort_values(by=['buyer_admin_id','irank']).head(3)"
   ]
  },
  {
   "cell_type": "code",
   "execution_count": null,
   "metadata": {
    "pycharm": {
     "is_executing": false
    }
   },
   "outputs": [],
   "source": [
    "df[(train) & (df['irank']==1) & (df['buyer_admin_id'].isin(['12858772','3106927','12368445']))]"
   ]
  },
  {
   "cell_type": "markdown",
   "metadata": {},
   "source": [
    "emmm... 为啥同一个用户在训练集和测试集国家不一样了呢？但是其他信息能对上。。。，而且rank=1的结果直接给出来了。。。\n",
    "\n",
    "id为12858772、3106927、12368445直接把结果给出来\n",
    "\n",
    "可能是数据清洗出问题了，后面再看看怎么处理"
   ]
  },
  {
   "cell_type": "markdown",
   "metadata": {},
   "source": [
    "#### 用户记录数分布"
   ]
  },
  {
   "cell_type": "code",
   "execution_count": null,
   "metadata": {
    "pycharm": {
     "is_executing": false
    }
   },
   "outputs": [],
   "source": [
    "admin_cnt = groupby_cnt_ratio(df, 'buyer_admin_id')\n",
    "admin_cnt.groupby(['is_train','buyer_country_id']).head(3)"
   ]
  },
  {
   "cell_type": "code",
   "execution_count": null,
   "metadata": {
    "pycharm": {
     "is_executing": false
    }
   },
   "outputs": [],
   "source": [
    "# 用户购买记录数——最多、最少、中位数\n",
    "admin_cnt.groupby(['is_train','buyer_country_id'])['count'].agg(['max','min','median'])"
   ]
  },
  {
   "cell_type": "code",
   "execution_count": null,
   "metadata": {
    "pycharm": {
     "is_executing": false
    }
   },
   "outputs": [],
   "source": [
    "fig, ax = plt.subplots(1, 2 ,figsize=(16,6))\n",
    "ax[0].set(xlabel='用户记录数')\n",
    "sns.kdeplot(admin_cnt.loc[(1, 'xx')]['count'].values, ax=ax[0]).set_title('训练集--xx国用户记录数')\n",
    "\n",
    "ax[1].legend(labels=['训练集', '测试集'], loc=\"upper right\")\n",
    "ax[1].set(xlabel='用户记录数')\n",
    "sns.kdeplot(admin_cnt[admin_cnt['count']<50].loc[(1, 'yy')]['count'].values, ax=ax[1]).set_title('yy国用户记录数')\n",
    "sns.kdeplot(admin_cnt[admin_cnt['count']<50].loc[(0, 'yy')]['count'].values, ax=ax[1]);"
   ]
  },
  {
   "cell_type": "markdown",
   "metadata": {},
   "source": [
    "用户记录数进行了一波简单的探查：\n",
    "* 训练集中记录了*809213*个用户的数据，其中id为10828801的用户拔得头筹，有42751条购买记录，用户至少都有8条记录\n",
    "* 训练集中记录了*11398*个用户的数据，其中id为2041038的用户勇冠三军，有1386条购买记录，用户至少有7条记录\n",
    "\n",
    "Notes: 验证集中用户最少仅有7条，是因为最后一条记录被抹去"
   ]
  },
  {
   "cell_type": "markdown",
   "metadata": {},
   "source": [
    "从上面数据和图表看到，用户记录数大都都分布在0~50，少量用户记录甚至超过了10000条，下一步对用户记录数分布继续探索"
   ]
  },
  {
   "cell_type": "code",
   "execution_count": null,
   "metadata": {
    "pycharm": {
     "is_executing": false
    }
   },
   "outputs": [],
   "source": [
    "admin_cnt.columns = ['记录数', '占比']\n",
    "admin_user_cnt = groupby_cnt_ratio(admin_cnt, '记录数')\n",
    "admin_user_cnt.columns = ['人数', '人数占比']\n",
    "admin_user_cnt.head()"
   ]
  },
  {
   "cell_type": "code",
   "execution_count": null,
   "metadata": {
    "pycharm": {
     "is_executing": false
    }
   },
   "outputs": [],
   "source": [
    "# xx国——用户记录数与用户数\n",
    "admin_user_cnt.loc[(1,'xx')][['人数','人数占比']].T"
   ]
  },
  {
   "cell_type": "code",
   "execution_count": null,
   "metadata": {
    "pycharm": {
     "is_executing": false
    }
   },
   "outputs": [],
   "source": [
    "# yy国——记录数与用户数占比\n",
    "admin_user_cnt.loc[([1,0],'yy',slice(None))][['人数','人数占比']].unstack(0).drop('人数',1).head(10)"
   ]
  },
  {
   "cell_type": "code",
   "execution_count": null,
   "metadata": {
    "pycharm": {
     "is_executing": false
    }
   },
   "outputs": [],
   "source": [
    "fig, ax = plt.subplots(2, 1, figsize=(16,10))\n",
    "admin_plot = admin_user_cnt.reset_index()\n",
    "sns.barplot(x='记录数', y='人数占比', data=admin_plot[(admin_plot['记录数']<50) & (admin_plot['buyer_country_id']=='xx')], \n",
    "            estimator=np.mean, ax=ax[0]).set_title('训练集——xx国记录数与人数占比');\n",
    "\n",
    "sns.barplot(x='记录数', y='人数占比', hue='is_train', data=admin_plot[(admin_plot['记录数']<50) & (admin_plot['buyer_country_id']=='yy')], \n",
    "            estimator=np.mean, ax=ax[1]).set_title('yy国记录数与人数占比');"
   ]
  },
  {
   "cell_type": "markdown",
   "metadata": {},
   "source": [
    "用户记录数进一步探查结论：\n",
    "    * 不管是训练集还是验证集，99%的用户购买记录都在50条内，这是比较符合正常逻辑\n",
    "    * TODO:对于发生大量购买行为的用户，后面再单独探查，是否有其他规律或疑似刷单现象"
   ]
  },
  {
   "cell_type": "markdown",
   "metadata": {},
   "source": [
    "### item_id 商品编号"
   ]
  },
  {
   "cell_type": "code",
   "execution_count": null,
   "metadata": {
    "pycharm": {
     "is_executing": false
    }
   },
   "outputs": [],
   "source": [
    "print('商品表中商品数：',len(item['item_id'].unique()))\n",
    "print('训练集中商品数：',len(df[train]['item_id'].unique()))\n",
    "print('验证集中商品数：',len(df[test]['item_id'].unique()))\n",
    "print('仅训练集有的商品数：',len(list(set(df[train]['item_id'].unique()).difference(set(df[test]['item_id'].unique())))))\n",
    "print('仅验证集有的商品数：',len(list(set(df[test]['item_id'].unique()).difference(set(df[train]['item_id'].unique())))))\n",
    "print('训练集验证集共同商品数：',len(list(set(df[train]['item_id'].unique()).intersection(set(df[test]['item_id'].unique())))))\n",
    "print('训练集中不在商品表的商品数：',len(list(set(df[train]['item_id'].unique()).difference(set(item['item_id'].unique())))))\n",
    "print('验证集中不在商品表的商品数：',len(list(set(df[test]['item_id'].unique()).difference(set(item['item_id'].unique())))))"
   ]
  },
  {
   "cell_type": "markdown",
   "metadata": {},
   "source": [
    "#### 商品销量"
   ]
  },
  {
   "cell_type": "code",
   "execution_count": null,
   "metadata": {
    "pycharm": {
     "is_executing": false
    }
   },
   "outputs": [],
   "source": [
    "item_cnt = groupby_cnt_ratio(df, 'item_id')\n",
    "item_cnt.columns=['销量', '总销量占比']\n",
    "item_cnt.reset_index(inplace=True)"
   ]
  },
  {
   "cell_type": "code",
   "execution_count": null,
   "metadata": {
    "pycharm": {
     "is_executing": false
    }
   },
   "outputs": [],
   "source": [
    "top_item_plot = item_cnt.groupby(['is_train','buyer_country_id']).head(10)"
   ]
  },
  {
   "cell_type": "code",
   "execution_count": null,
   "metadata": {
    "pycharm": {
     "is_executing": false
    }
   },
   "outputs": [],
   "source": [
    "fig, ax = plt.subplots(2, 1, figsize=(16,12))\n",
    "sns.barplot(x='item_id', y='销量', data=top_item_plot[top_item_plot['buyer_country_id']=='xx'], \n",
    "            order=top_item_plot['item_id'][top_item_plot['buyer_country_id']=='xx'], ax=ax[0], estimator=np.mean).set_title('xx国-TOP热销商品')\n",
    "sns.barplot(x='item_id', y='销量', hue='is_train', data=top_item_plot[top_item_plot['buyer_country_id']=='yy'], \n",
    "            order=top_item_plot['item_id'][top_item_plot['buyer_country_id']=='yy'], ax=ax[1], estimator=np.mean).set_title('yy国-TOP热销商品');"
   ]
  },
  {
   "cell_type": "markdown",
   "metadata": {},
   "source": [
    "初步数据发现：\n",
    "* 训练集中出售最多商品是12691565，卖了112659次。\n",
    "* 训练集中出售最多商品是5595070，卖了112659次。\n",
    "* 大部分商品只有1次出售记录，符合电商长尾属性\n",
    "* 比较奇怪的yy国中，训练集和测试集中热销商品并不太一样"
   ]
  },
  {
   "cell_type": "markdown",
   "metadata": {},
   "source": [
    "#### 整体商品销量分布"
   ]
  },
  {
   "cell_type": "code",
   "execution_count": null,
   "metadata": {
    "pycharm": {
     "is_executing": false
    }
   },
   "outputs": [],
   "source": [
    "item_order_cnt = groupby_cnt_ratio(item_cnt, '销量')\n",
    "item_order_cnt.columns = ['商品数', '占比']"
   ]
  },
  {
   "cell_type": "code",
   "execution_count": null,
   "metadata": {
    "pycharm": {
     "is_executing": false
    }
   },
   "outputs": [],
   "source": [
    "item_order_cnt.groupby(['is_train','buyer_country_id']).head(5).sort_values(by=['buyer_country_id','is_train'])"
   ]
  },
  {
   "cell_type": "code",
   "execution_count": null,
   "metadata": {
    "pycharm": {
     "is_executing": false
    }
   },
   "outputs": [],
   "source": [
    "item_order_plot = item_order_cnt.reset_index()\n",
    "item_order_plot = item_order_plot[item_order_plot['销量']<=8]\n",
    "\n",
    "xx_item_order_plot = item_order_plot[item_order_plot['buyer_country_id']=='xx']\n",
    "yy_item_order_plot = item_order_plot[item_order_plot['buyer_country_id']=='yy']\n",
    "yy_item_order_plot_1 = yy_item_order_plot[yy_item_order_plot['is_train']==1]\n",
    "yy_item_order_plot_0 = yy_item_order_plot[yy_item_order_plot['is_train']==0]"
   ]
  },
  {
   "cell_type": "code",
   "execution_count": null,
   "metadata": {
    "pycharm": {
     "is_executing": false
    }
   },
   "outputs": [],
   "source": [
    "# 商品销量饼图\n",
    "def text_style_func(pct, allvals):\n",
    "    absolute = int(pct/100.*np.sum(allvals))\n",
    "    return \"{:.1f}%({:d})\".format(pct, absolute)\n",
    "\n",
    "def pie_param(ax, df, color_palette):\n",
    "    return ax.pie(df['占比'].values, autopct=lambda pct: text_style_func(pct, df['商品数']), labels = df['销量'], \n",
    "                  explode = [0.1]+ np.zeros(len(df)-1).tolist(), pctdistance = 0.7, colors=sns.color_palette(color_palette, 8))\n",
    "\n",
    "fig, ax = plt.subplots(1, 3, figsize=(16,12))\n",
    "ax[0].set(xlabel='xx国-商品销量')\n",
    "ax[0].set(ylabel='xx国-商品数量比例')\n",
    "pie_param(ax[0], xx_item_order_plot, \"coolwarm\")\n",
    "ax[1].set(xlabel='yy国-训练集商品销量')\n",
    "pie_param(ax[1], yy_item_order_plot_1, \"Set3\")\n",
    "ax[2].set(xlabel='yy国测试集集商品销量')\n",
    "pie_param(ax[2], yy_item_order_plot_0, \"Set3\");"
   ]
  },
  {
   "cell_type": "code",
   "execution_count": null,
   "metadata": {
    "pycharm": {
     "is_executing": false
    }
   },
   "outputs": [],
   "source": [
    "print(xx_item_order_plot.head(10)['占比'].sum())\n",
    "print(yy_item_order_plot_1.head(10)['占比'].sum())\n",
    "print(yy_item_order_plot_0.head(10)['占比'].sum())"
   ]
  },
  {
   "cell_type": "markdown",
   "metadata": {},
   "source": [
    "总体来看，由于训练集数据远多于测试集数据：\n",
    "* 训练集商品销量大于测试集商品销量\n",
    "* 长尾趋势严重，热门商品少，大量商品仅有数次销售记录，1单商品占了绝大部分(均超过50%)\n",
    "* 训练集中92%的商品销量不超过10件，而在测试集中97%的商品销量不超过10件\n",
    "* 此外训练集中yy国的商品销量略大于测试集"
   ]
  },
  {
   "cell_type": "markdown",
   "metadata": {},
   "source": [
    "### cate_id 品类编号"
   ]
  },
  {
   "cell_type": "code",
   "execution_count": null,
   "metadata": {
    "pycharm": {
     "is_executing": false
    }
   },
   "outputs": [],
   "source": [
    "print('商品品类数', len(item['cate_id'].unique()))\n",
    "print('训练集商品品类数', len(df[train]['cate_id'].unique()))\n",
    "print('测试集商品品类数', len(df[test]['cate_id'].unique()))"
   ]
  },
  {
   "cell_type": "markdown",
   "metadata": {},
   "source": [
    "#### 各个品类下商品数量"
   ]
  },
  {
   "cell_type": "code",
   "execution_count": null,
   "metadata": {
    "pycharm": {
     "is_executing": false
    }
   },
   "outputs": [],
   "source": [
    "cate_cnt = item.groupby(['cate_id']).size().to_frame('count').reset_index()\n",
    "cate_cnt.sort_values(by=['count'], ascending=False).head(5)"
   ]
  },
  {
   "cell_type": "code",
   "execution_count": null,
   "metadata": {
    "pycharm": {
     "is_executing": false
    }
   },
   "outputs": [],
   "source": [
    "plt.figure(figsize=(12,4))\n",
    "sns.kdeplot(data=cate_cnt[cate_cnt['count']<1000]['count']);"
   ]
  },
  {
   "cell_type": "markdown",
   "metadata": {},
   "source": [
    "我们发现：\n",
    "    * 579品类一花独秀有17W个商品，可能是平台主营方向\n",
    "    * 大部分品类都在100个以上"
   ]
  },
  {
   "cell_type": "markdown",
   "metadata": {},
   "source": [
    "### store_id 店铺编号"
   ]
  },
  {
   "cell_type": "code",
   "execution_count": null,
   "metadata": {
    "pycharm": {
     "is_executing": false
    }
   },
   "outputs": [],
   "source": [
    "print('商品店铺数', len(item['store_id'].unique()))\n",
    "print('训练集店铺数', len(df[train]['store_id'].unique()))\n",
    "print('测试集店铺数', len(df[train]['store_id'].unique()))"
   ]
  },
  {
   "cell_type": "markdown",
   "metadata": {},
   "source": [
    "#### 店铺下品类数量"
   ]
  },
  {
   "cell_type": "code",
   "execution_count": null,
   "metadata": {
    "pycharm": {
     "is_executing": false
    }
   },
   "outputs": [],
   "source": [
    "store_cate_cnt = item.groupby(['store_id'])['cate_id'].nunique().to_frame('count').reset_index()\n",
    "store_cate_cnt.sort_values(by=['count'], ascending=False).head(5)"
   ]
  },
  {
   "cell_type": "code",
   "execution_count": null,
   "metadata": {
    "pycharm": {
     "is_executing": false
    }
   },
   "outputs": [],
   "source": [
    "store_cnt_cate_cnt = store_cate_cnt.groupby(['count']).size().reset_index()\n",
    "store_cnt_cate_cnt.columns = ['店铺品类数', '店铺数量']"
   ]
  },
  {
   "cell_type": "code",
   "execution_count": null,
   "metadata": {
    "pycharm": {
     "is_executing": false
    }
   },
   "outputs": [],
   "source": [
    "plt.figure(figsize=(12,4))\n",
    "sns.barplot(x='店铺品类数', y='店铺数量', data=store_cnt_cate_cnt[store_cnt_cate_cnt['店铺品类数']<50], estimator=np.mean);"
   ]
  },
  {
   "cell_type": "markdown",
   "metadata": {},
   "source": [
    "#### 店铺下商品数量"
   ]
  },
  {
   "cell_type": "code",
   "execution_count": null,
   "metadata": {
    "pycharm": {
     "is_executing": false
    }
   },
   "outputs": [],
   "source": [
    "store_item_cnt = item.groupby(['store_id'])['item_id'].nunique().to_frame('count').reset_index()\n",
    "store_item_cnt.sort_values(by=['count'], ascending=False).head(5)"
   ]
  },
  {
   "cell_type": "code",
   "execution_count": null,
   "metadata": {
    "pycharm": {
     "is_executing": false
    }
   },
   "outputs": [],
   "source": [
    "store_cnt_item_cnt = store_item_cnt.groupby(['count']).size().reset_index()\n",
    "store_cnt_item_cnt.columns = ['店铺商品数', '店铺数量']"
   ]
  },
  {
   "cell_type": "code",
   "execution_count": null,
   "metadata": {
    "pycharm": {
     "is_executing": false
    }
   },
   "outputs": [],
   "source": [
    "store_cnt_item_cnt.T"
   ]
  },
  {
   "cell_type": "code",
   "execution_count": null,
   "metadata": {
    "pycharm": {
     "is_executing": false
    }
   },
   "outputs": [],
   "source": [
    "plt.figure(figsize=(16,4))\n",
    "sns.barplot(x='店铺商品数', y='店铺数量', data=store_cnt_item_cnt[store_cnt_item_cnt['店铺商品数']<80], estimator=np.mean);"
   ]
  },
  {
   "cell_type": "markdown",
   "metadata": {},
   "source": [
    "#### item_price 商品价格"
   ]
  },
  {
   "cell_type": "code",
   "execution_count": null,
   "metadata": {
    "pycharm": {
     "is_executing": false
    }
   },
   "outputs": [],
   "source": [
    "print(item['item_price'].max(), item['item_price'].min(), item['item_price'].mean(), item['item_price'].median())"
   ]
  },
  {
   "cell_type": "code",
   "execution_count": null,
   "metadata": {
    "pycharm": {
     "is_executing": false
    }
   },
   "outputs": [],
   "source": [
    "plt.figure(figsize=(16,4))\n",
    "plt.subplot(121)\n",
    "sns.kdeplot(item['item_price'])\n",
    "plt.subplot(122)\n",
    "sns.kdeplot(item['item_price'][item['item_price']<1000]);"
   ]
  },
  {
   "cell_type": "code",
   "execution_count": null,
   "metadata": {
    "pycharm": {
     "is_executing": false
    }
   },
   "outputs": [],
   "source": [
    "price_cnt = item.groupby(['item_price']).size().to_frame('count').reset_index()\n",
    "price_cnt.sort_values(by=['count'], ascending=False).head(10)"
   ]
  },
  {
   "cell_type": "markdown",
   "metadata": {},
   "source": [
    "关于商品价格：商品价格是通过函数转化成了从1开始的整数，最大值为20230，最小值为1。\n",
    "    * 经常对商品价格统计，大部门商品都是整百数，Top5价格200\\500\\100\\400\\300\n",
    "    * TODO：整百商品探查"
   ]
  },
  {
   "cell_type": "markdown",
   "metadata": {},
   "source": [
    "#### 有售商品价格"
   ]
  },
  {
   "cell_type": "code",
   "execution_count": null,
   "metadata": {
    "pycharm": {
     "is_executing": false
    }
   },
   "outputs": [],
   "source": [
    "print(df[train]['item_price'].max(), df[train]['item_price'].min(), df[train]['item_price'].mean(), df[train]['item_price'].median())\n",
    "print(df[test]['item_price'].max(), df[test]['item_price'].min(), df[test]['item_price'].mean(), df[test]['item_price'].median())"
   ]
  },
  {
   "cell_type": "code",
   "execution_count": null,
   "metadata": {
    "pycharm": {
     "is_executing": false
    }
   },
   "outputs": [],
   "source": [
    "plt.figure(figsize=(12,4))\n",
    "sns.kdeplot(df[train][df[train]['item_price']<1000][['item_id','item_price']].drop_duplicates()['item_price'])\n",
    "sns.kdeplot(df[test][df[test]['item_price']<1000][['item_id','item_price']].drop_duplicates()['item_price']);"
   ]
  },
  {
   "cell_type": "markdown",
   "metadata": {},
   "source": [
    "商品价格与销量"
   ]
  },
  {
   "cell_type": "code",
   "execution_count": null,
   "metadata": {
    "pycharm": {
     "is_executing": false
    }
   },
   "outputs": [],
   "source": [
    "df[train].groupby(['item_price'])['item_id'].nunique().to_frame('商品数量').head()"
   ]
  },
  {
   "cell_type": "code",
   "execution_count": null,
   "metadata": {
    "pycharm": {
     "is_executing": false
    }
   },
   "outputs": [],
   "source": [
    "price_cnt = groupby_cnt_ratio(df, 'item_price')\n",
    "price_cnt.groupby(['is_train', 'buyer_country_id']).head(5)"
   ]
  },
  {
   "cell_type": "markdown",
   "metadata": {},
   "source": [
    "似乎价格与销量并无直接关系\n",
    "    * 但是价格为100、200、300、400、500整百数位居销量榜\n",
    "    * xx国，17844如此高价格的商品销量这么高？"
   ]
  },
  {
   "cell_type": "markdown",
   "metadata": {},
   "source": [
    "### create_order_time 订单日期"
   ]
  },
  {
   "cell_type": "code",
   "execution_count": null,
   "metadata": {
    "pycharm": {
     "is_executing": false
    }
   },
   "outputs": [],
   "source": [
    "print(df[train]['create_order_time'].min(), df[train]['create_order_time'].max())\n",
    "print(df[test]['create_order_time'].min(), df[test]['create_order_time'].max())"
   ]
  },
  {
   "cell_type": "code",
   "execution_count": null,
   "metadata": {
    "pycharm": {
     "is_executing": false
    }
   },
   "outputs": [],
   "source": [
    "train_df_seven = df[train][df[train]['create_order_time']<pd.to_datetime('2018-08-01')]\n",
    "train_df_eight = df[train][df[train]['create_order_time']>pd.to_datetime('2018-08-01')]\n",
    "train_df_seven = df[train][df[train]['create_order_time']<pd.to_datetime('2018-08-01')]\n",
    "train_df_eight = df[train][df[train]['create_order_time']>pd.to_datetime('2018-08-01')]"
   ]
  },
  {
   "cell_type": "code",
   "execution_count": null,
   "metadata": {
    "pycharm": {
     "is_executing": false
    }
   },
   "outputs": [],
   "source": [
    "print('7月数据量',len(df[train][df[train]['create_order_time']<pd.to_datetime('2018-08-01')]),\n",
    "      '\\n8月数据量',len(df[train][df[train]['create_order_time']>pd.to_datetime('2018-08-02')]))"
   ]
  },
  {
   "cell_type": "code",
   "execution_count": null,
   "metadata": {
    "pycharm": {
     "is_executing": false
    }
   },
   "outputs": [],
   "source": [
    "date_cnt = groupby_cnt_ratio(df, 'date')\n",
    "date_cnt.columns = ['当天销量', \"占比\"]\n",
    "date_cnt = date_cnt.reset_index()"
   ]
  },
  {
   "cell_type": "code",
   "execution_count": null,
   "metadata": {
    "pycharm": {
     "is_executing": false
    }
   },
   "outputs": [],
   "source": [
    "fig, ax = plt.subplots(2, 1, figsize=(16,10))\n",
    "sns.lineplot(x='date', y='当天销量', hue='buyer_country_id', data=date_cnt[(date_cnt['is_train']==1)], \n",
    "            estimator=np.mean, ax=ax[0]).set_title('训练集——每日销量');\n",
    "\n",
    "sns.lineplot(x='date', y='当天销量', hue='is_train', data=date_cnt[(date_cnt['buyer_country_id']=='yy')], \n",
    "            estimator=np.mean, ax=ax[1]).set_title('yy国每日销量');"
   ]
  },
  {
   "cell_type": "markdown",
   "metadata": {},
   "source": [
    "很明显：\n",
    "* 训练集中7月份数据远小于8月份数据\n",
    "* 训练集中xx国和yy国每日销量趋势十分相似，且在27日有个波峰"
   ]
  },
  {
   "cell_type": "code",
   "execution_count": null,
   "metadata": {
    "pycharm": {
     "is_executing": false
    }
   },
   "outputs": [],
   "source": [
    "seven = date_cnt[date_cnt['date']<pd.to_datetime('2018-08-02')]\n",
    "eight = date_cnt[date_cnt['date']>=pd.to_datetime('2018-08-02')]"
   ]
  },
  {
   "cell_type": "code",
   "execution_count": null,
   "metadata": {
    "pycharm": {
     "is_executing": false
    }
   },
   "outputs": [],
   "source": [
    "fig, ax = plt.subplots(2, 3, figsize=(20,16))\n",
    "def barplot(ax, df, title):\n",
    "    df['date'] = df['date'].astype(str)\n",
    "    sns.barplot(y='date', x='当天销量' ,data=df, order=sorted(df['date'].unique()), ax=ax, estimator=np.mean)\\\n",
    "    .set_title(title)\n",
    "    \n",
    "barplot(ax[0][0], seven[(seven['is_train']==1) & (seven['buyer_country_id']=='xx')], 'xx国7月份销量')\n",
    "barplot(ax[1][0], eight[(eight['is_train']==1) & (eight['buyer_country_id']=='xx')], 'xx国8月份销量')\n",
    "barplot(ax[0][1], seven[(seven['is_train']==1) & (seven['buyer_country_id']=='yy')], '训练集-yy国7月份销量')\n",
    "barplot(ax[1][1], eight[(eight['is_train']==1) & (eight['buyer_country_id']=='yy')], '训练集-yy国8月份销量')\n",
    "barplot(ax[0][2], seven[(seven['is_train']==0) & (seven['buyer_country_id']=='yy')], '测试集-yy国7月份销量')\n",
    "barplot(ax[1][2], eight[(eight['is_train']==0) & (eight['buyer_country_id']=='yy')], '测试集-yy国8月份销量')\n",
    "plt.tight_layout()"
   ]
  },
  {
   "cell_type": "markdown",
   "metadata": {},
   "source": [
    "数据放大后看：\n",
    "* 训练集和测试集在8月份有相似的波动规律，27号出现波峰，当天剧增数据有待下一步探查"
   ]
  },
  {
   "cell_type": "markdown",
   "metadata": {},
   "source": [
    "#### 每日uv与商品数(去重)"
   ]
  },
  {
   "cell_type": "code",
   "execution_count": null,
   "metadata": {
    "pycharm": {
     "is_executing": false
    }
   },
   "outputs": [],
   "source": [
    "unique = df.groupby(['is_train', 'buyer_country_id', 'date']).agg({'buyer_admin_id':'nunique','item_id':['nunique','size']})\n",
    "unique.columns = ['uv','商品数(去重)', '销量']\n",
    "unique = unique.reset_index()\n",
    "unique = pd.melt(unique, id_vars=['is_train', 'buyer_country_id', 'date'], value_vars=['uv', '商品数(去重)', '销量'])\n",
    "unique['date'] = unique['date'].astype(str)\n",
    "unique = unique[unique['date']>='2018-08-02']"
   ]
  },
  {
   "cell_type": "code",
   "execution_count": null,
   "metadata": {
    "pycharm": {
     "is_executing": false
    }
   },
   "outputs": [],
   "source": [
    "fig, ax = plt.subplots(3, 1, figsize=(16,8), sharex=True)\n",
    "sns.lineplot(x='date', y='value', hue='variable', data=unique[(unique['is_train']==1) & (unique['buyer_country_id']=='xx')], \n",
    "             estimator=np.mean, ax=ax[0]).set_title('xx国每日销售数据');\n",
    "\n",
    "sns.lineplot(x='date', y='value', hue='variable', data=unique[(unique['is_train']==0) & (unique['buyer_country_id']=='yy')], \n",
    "            estimator=np.mean, ax=ax[1]).set_title('训练集-yy国每日销量');\n",
    "\n",
    "sns.lineplot(x='date', y='value', hue='variable', data=unique[(unique['is_train']==1) & (unique['buyer_country_id']=='yy')], \n",
    "            estimator=np.mean, ax=ax[2]).set_title('测试集-yy国每日销量')\n",
    "plt.xticks(rotation=90);"
   ]
  },
  {
   "cell_type": "markdown",
   "metadata": {},
   "source": [
    "对每日的uv、商品数和销量作图发现：\n",
    "* 三者基本上呈正相关，xx国的商品单品销量更高"
   ]
  },
  {
   "cell_type": "markdown",
   "metadata": {},
   "source": [
    "# BASELINE\n",
    "选取用户近30次购买记录作为预测值，越近购买的商品放在越靠前的列，不够30次购买记录的用热销商品5595070填充"
   ]
  },
  {
   "cell_type": "code",
   "execution_count": 7,
   "metadata": {
    "pycharm": {
     "is_executing": false
    }
   },
   "outputs": [],
   "source": [
    "test = pd.read_csv('H:/pythonchengx_u/Tianchiantai/dianshangtuijian/Antai_AE_round1_test_20190626.csv')\n",
    "tmp = test[test['irank']<=31].sort_values(by=['buyer_country_id', 'buyer_admin_id', 'irank'])[['buyer_admin_id','item_id','irank']]\n",
    "sub = tmp.set_index(['buyer_admin_id', 'irank']).unstack(-1)\n",
    "sub.fillna(5595070).astype(int).reset_index().to_csv('H:/pythonchengx_u/Tianchiantai/dianshangtuijian/sub.csv', index=False, header=None)"
   ]
  },
  {
   "cell_type": "code",
   "execution_count": 8,
   "metadata": {
    "pycharm": {
     "is_executing": false,
     "name": "#%%\n"
    }
   },
   "outputs": [
    {
     "data": {
      "text/plain": "    0         1        2        3         4         5        6         7   \\\n0  152   8410857  7937154  8472223   4016066   9891513  8064216   8351840   \n1  282  11721802  7665423  7665423  10808393  11310708   623582   6547607   \n2  321   1461800  7379845  9243286   7379845    627849  5000759  11774753   \n3  809   2347616  5707010  6339286   5492003   1207574  5707010   5492003   \n4  870  11382694  5999244  6611583   7412272   4343647  5546383   3432696   \n\n         8        9   ...       21       22       23       24       25  \\\n0   5595070  5595070  ...  5595070  5595070  5595070  5595070  5595070   \n1   2605373   688799  ...  5595070  5595070  5595070  5595070  5595070   \n2  10932288  4813286  ...  5595070  5595070  5595070  5595070  5595070   \n3   1207574  2262443  ...  5595070  5595070  5595070  5595070  5595070   \n4   9589237  6163411  ...  5595070  5595070  5595070  5595070  5595070   \n\n        26       27       28       29       30  \n0  5595070  5595070  5595070  5595070  5595070  \n1  5595070  5595070  5595070  5595070  5595070  \n2  5595070  5595070  5595070  5595070  5595070  \n3  5595070  5595070  5595070  5595070  5595070  \n4  5595070  5595070  5595070  5595070  5595070  \n\n[5 rows x 31 columns]",
      "text/html": "<div>\n<style scoped>\n    .dataframe tbody tr th:only-of-type {\n        vertical-align: middle;\n    }\n\n    .dataframe tbody tr th {\n        vertical-align: top;\n    }\n\n    .dataframe thead th {\n        text-align: right;\n    }\n</style>\n<table border=\"1\" class=\"dataframe\">\n  <thead>\n    <tr style=\"text-align: right;\">\n      <th></th>\n      <th>0</th>\n      <th>1</th>\n      <th>2</th>\n      <th>3</th>\n      <th>4</th>\n      <th>5</th>\n      <th>6</th>\n      <th>7</th>\n      <th>8</th>\n      <th>9</th>\n      <th>...</th>\n      <th>21</th>\n      <th>22</th>\n      <th>23</th>\n      <th>24</th>\n      <th>25</th>\n      <th>26</th>\n      <th>27</th>\n      <th>28</th>\n      <th>29</th>\n      <th>30</th>\n    </tr>\n  </thead>\n  <tbody>\n    <tr>\n      <th>0</th>\n      <td>152</td>\n      <td>8410857</td>\n      <td>7937154</td>\n      <td>8472223</td>\n      <td>4016066</td>\n      <td>9891513</td>\n      <td>8064216</td>\n      <td>8351840</td>\n      <td>5595070</td>\n      <td>5595070</td>\n      <td>...</td>\n      <td>5595070</td>\n      <td>5595070</td>\n      <td>5595070</td>\n      <td>5595070</td>\n      <td>5595070</td>\n      <td>5595070</td>\n      <td>5595070</td>\n      <td>5595070</td>\n      <td>5595070</td>\n      <td>5595070</td>\n    </tr>\n    <tr>\n      <th>1</th>\n      <td>282</td>\n      <td>11721802</td>\n      <td>7665423</td>\n      <td>7665423</td>\n      <td>10808393</td>\n      <td>11310708</td>\n      <td>623582</td>\n      <td>6547607</td>\n      <td>2605373</td>\n      <td>688799</td>\n      <td>...</td>\n      <td>5595070</td>\n      <td>5595070</td>\n      <td>5595070</td>\n      <td>5595070</td>\n      <td>5595070</td>\n      <td>5595070</td>\n      <td>5595070</td>\n      <td>5595070</td>\n      <td>5595070</td>\n      <td>5595070</td>\n    </tr>\n    <tr>\n      <th>2</th>\n      <td>321</td>\n      <td>1461800</td>\n      <td>7379845</td>\n      <td>9243286</td>\n      <td>7379845</td>\n      <td>627849</td>\n      <td>5000759</td>\n      <td>11774753</td>\n      <td>10932288</td>\n      <td>4813286</td>\n      <td>...</td>\n      <td>5595070</td>\n      <td>5595070</td>\n      <td>5595070</td>\n      <td>5595070</td>\n      <td>5595070</td>\n      <td>5595070</td>\n      <td>5595070</td>\n      <td>5595070</td>\n      <td>5595070</td>\n      <td>5595070</td>\n    </tr>\n    <tr>\n      <th>3</th>\n      <td>809</td>\n      <td>2347616</td>\n      <td>5707010</td>\n      <td>6339286</td>\n      <td>5492003</td>\n      <td>1207574</td>\n      <td>5707010</td>\n      <td>5492003</td>\n      <td>1207574</td>\n      <td>2262443</td>\n      <td>...</td>\n      <td>5595070</td>\n      <td>5595070</td>\n      <td>5595070</td>\n      <td>5595070</td>\n      <td>5595070</td>\n      <td>5595070</td>\n      <td>5595070</td>\n      <td>5595070</td>\n      <td>5595070</td>\n      <td>5595070</td>\n    </tr>\n    <tr>\n      <th>4</th>\n      <td>870</td>\n      <td>11382694</td>\n      <td>5999244</td>\n      <td>6611583</td>\n      <td>7412272</td>\n      <td>4343647</td>\n      <td>5546383</td>\n      <td>3432696</td>\n      <td>9589237</td>\n      <td>6163411</td>\n      <td>...</td>\n      <td>5595070</td>\n      <td>5595070</td>\n      <td>5595070</td>\n      <td>5595070</td>\n      <td>5595070</td>\n      <td>5595070</td>\n      <td>5595070</td>\n      <td>5595070</td>\n      <td>5595070</td>\n      <td>5595070</td>\n    </tr>\n  </tbody>\n</table>\n<p>5 rows × 31 columns</p>\n</div>"
     },
     "metadata": {},
     "output_type": "execute_result",
     "execution_count": 8
    }
   ],
   "source": [
    "# 最终提交文件格式\n",
    "sub = pd.read_csv('H:/pythonchengx_u/Tianchiantai/dianshangtuijian/sub.csv', header = None)\n",
    "sub.head()\n"
   ]
  }
 ],
 "metadata": {
  "kernelspec": {
   "display_name": "Python 3",
   "language": "python",
   "name": "python3"
  },
  "language_info": {
   "codemirror_mode": {
    "name": "ipython",
    "version": 3
   },
   "file_extension": ".py",
   "mimetype": "text/x-python",
   "name": "python",
   "nbconvert_exporter": "python",
   "pygments_lexer": "ipython3",
   "version": "3.7.3"
  },
  "pycharm": {
   "stem_cell": {
    "cell_type": "raw",
    "source": [],
    "metadata": {
     "collapsed": false
    }
   }
  }
 },
 "nbformat": 4,
 "nbformat_minor": 2
}